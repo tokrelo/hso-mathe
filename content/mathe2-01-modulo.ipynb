{
 "cells": [
  {
   "cell_type": "markdown",
   "metadata": {},
   "source": [
    "# Rechnen modulo m\n",
    "\n",
    "## Generelles:\n",
    "* Diese Aufgaben dienen dazu, den Vorlesungsstoff von Mathematik für Informatiker 2 zu vertiefen. Sie ergänzen die gemischten Übungen.\n",
    "* Die Aufgaben sind in Python gestellt. Auch wenn Ihnen diese Sprache nicht aus einer Vorlesung vertraut ist, sollten Sie schnell in der Lage sein die für die Aufgaben benötigten Elemente zu lernen. Sie werden sehen, dass Python Ihnen an vielen Stellen das Leben sehr leicht macht.\n",
    "* Alle Stellen, an denen Sie Code schreiben sollen, sind mit TODO gekennzeichnet\n",
    "* Wir verwenden sehr häufig die mathematischen Operationen aus den Paketen NumPy, SciPy und plotting mit matplotlib. Die Einbindung dieser Pakete sollten Sie immer als erstes in einem Notebook ausführen, um alle benötigten Klassen und Methoden zur Verfügung zu haben."
   ]
  },
  {
   "cell_type": "code",
   "execution_count": null,
   "metadata": {},
   "outputs": [],
   "source": [
    "import numpy as np\n",
    "import pylab as plt\n",
    "import scipy as sp"
   ]
  },
  {
   "cell_type": "markdown",
   "metadata": {},
   "source": [
    "## Erste Schritte\n",
    "In Python ist der Modulo-Operator das Prozent-Zeichen.\n",
    "Berechnen Sie im folgenden, in welche Restklasse modulo 26 die Zahlen gehören, indem Sie jeweils das Ergebnis von x % 26 ausgeben."
   ]
  },
  {
   "cell_type": "code",
   "execution_count": null,
   "metadata": {},
   "outputs": [],
   "source": [
    "4 % 26"
   ]
  },
  {
   "cell_type": "code",
   "execution_count": null,
   "metadata": {},
   "outputs": [],
   "source": [
    "31 % 26"
   ]
  },
  {
   "cell_type": "code",
   "execution_count": null,
   "metadata": {},
   "outputs": [],
   "source": [
    "-1 % 26"
   ]
  },
  {
   "cell_type": "markdown",
   "metadata": {},
   "source": [
    "### Teiilbarkeit\n",
    "\n",
    "Nutzen Sie den Modulo-Operator, um zu prüfen, ob eine Zahl $a$ gerade ist:"
   ]
  },
  {
   "cell_type": "code",
   "execution_count": 1,
   "metadata": {},
   "outputs": [
    {
     "name": "stdout",
     "output_type": "stream",
     "text": [
      "gerade\n",
      "gerade\n"
     ]
    }
   ],
   "source": [
    "def even(a):\n",
    "  if a: # TODO: wenn a gerade...\n",
    "    print(\"gerade\")\n",
    "  else:\n",
    "    print(\"ungerade\")\n",
    "\n",
    "even(19)\n",
    "even(20)"
   ]
  },
  {
   "cell_type": "markdown",
   "metadata": {},
   "source": [
    "Prüfen Sie jetzt, ob eine Variable year durch 4 teilbar ist:"
   ]
  },
  {
   "cell_type": "code",
   "execution_count": 8,
   "metadata": {},
   "outputs": [
    {
     "name": "stdout",
     "output_type": "stream",
     "text": [
      "True\n",
      "True\n"
     ]
    }
   ],
   "source": [
    "def is_leap_year(year):\n",
    "  if year: # TODO: durch 4 teilbar?\n",
    "    return True\n",
    "  else:\n",
    "    return False\n",
    "\n",
    "print(is_leap_year(2025))\n",
    "print(is_leap_year(2024))"
   ]
  },
  {
   "cell_type": "markdown",
   "metadata": {},
   "source": [
    "In der folgenden Schleife soll nur jeder 10. Schleifendurchlauf ausgegeben werden:"
   ]
  },
  {
   "cell_type": "code",
   "execution_count": 15,
   "metadata": {},
   "outputs": [
    {
     "name": "stdout",
     "output_type": "stream",
     "text": [
      "Iteration 1\n",
      "Iteration 2\n",
      "Iteration 3\n",
      "Iteration 4\n",
      "Iteration 5\n",
      "Iteration 6\n",
      "Iteration 7\n",
      "Iteration 8\n",
      "Iteration 9\n",
      "Iteration 10\n",
      "Iteration 11\n",
      "Iteration 12\n",
      "Iteration 13\n",
      "Iteration 14\n",
      "Iteration 15\n",
      "Iteration 16\n",
      "Iteration 17\n",
      "Iteration 18\n",
      "Iteration 19\n",
      "Iteration 20\n",
      "Iteration 21\n",
      "Iteration 22\n",
      "Iteration 23\n",
      "Iteration 24\n",
      "Iteration 25\n",
      "Iteration 26\n",
      "Iteration 27\n",
      "Iteration 28\n",
      "Iteration 29\n",
      "Iteration 30\n",
      "Iteration 31\n",
      "Iteration 32\n",
      "Iteration 33\n",
      "Iteration 34\n",
      "Iteration 35\n",
      "Iteration 36\n",
      "Iteration 37\n",
      "Iteration 38\n",
      "Iteration 39\n",
      "Iteration 40\n",
      "Iteration 41\n",
      "Iteration 42\n",
      "Iteration 43\n",
      "Iteration 44\n",
      "Iteration 45\n",
      "Iteration 46\n",
      "Iteration 47\n",
      "Iteration 48\n",
      "Iteration 49\n",
      "Iteration 50\n",
      "Iteration 51\n",
      "Iteration 52\n",
      "Iteration 53\n",
      "Iteration 54\n",
      "Iteration 55\n",
      "Iteration 56\n",
      "Iteration 57\n",
      "Iteration 58\n",
      "Iteration 59\n",
      "Iteration 60\n",
      "Iteration 61\n",
      "Iteration 62\n",
      "Iteration 63\n",
      "Iteration 64\n",
      "Iteration 65\n",
      "Iteration 66\n",
      "Iteration 67\n",
      "Iteration 68\n",
      "Iteration 69\n",
      "Iteration 70\n",
      "Iteration 71\n",
      "Iteration 72\n",
      "Iteration 73\n",
      "Iteration 74\n",
      "Iteration 75\n",
      "Iteration 76\n",
      "Iteration 77\n",
      "Iteration 78\n",
      "Iteration 79\n",
      "Iteration 80\n",
      "Iteration 81\n",
      "Iteration 82\n",
      "Iteration 83\n",
      "Iteration 84\n",
      "Iteration 85\n",
      "Iteration 86\n",
      "Iteration 87\n",
      "Iteration 88\n",
      "Iteration 89\n",
      "Iteration 90\n",
      "Iteration 91\n",
      "Iteration 92\n",
      "Iteration 93\n",
      "Iteration 94\n",
      "Iteration 95\n",
      "Iteration 96\n",
      "Iteration 97\n",
      "Iteration 98\n",
      "Iteration 99\n"
     ]
    }
   ],
   "source": [
    "for i in range(100):\n",
    "  if i: # TODO: nur jeder 10. Durchlauf\n",
    "    print(\"Iteration\", i)"
   ]
  },
  {
   "cell_type": "markdown",
   "metadata": {},
   "source": [
    "### Kongruente Zahlen\n",
    "\n",
    "Schreiben Sie eine Funktion `congruent(a, b, m)` , die überprüft, ob zwei Zahlen a und b kongruent modulo m sind.\n",
    "\n",
    "Hinweis: in Python sind die beiden Booleschen Werte `True` und `False`"
   ]
  },
  {
   "cell_type": "code",
   "execution_count": 16,
   "metadata": {},
   "outputs": [
    {
     "name": "stdout",
     "output_type": "stream",
     "text": [
      "False (erwartet: True)\n",
      "False (erwartet: True)\n",
      "False (erwartet: False)\n"
     ]
    }
   ],
   "source": [
    "def congruent(a, b, m):\n",
    "    # TODO: implement function\n",
    "    return False\n",
    "\n",
    "\n",
    "print(congruent(1, 5, 4), \"(erwartet: True)\")\n",
    "print(congruent(1, 27, 26), \"(erwartet: True)\")\n",
    "print(congruent(1, 46, 26), \"(erwartet: False)\")"
   ]
  },
  {
   "cell_type": "markdown",
   "metadata": {},
   "source": [
    "### Caesar Verschlüsselung\n",
    "Vervollständigen Sie die Funktion `encrypt(message, key)`, die eine Caesar-Verschlüsselung durchführt. Denken Sie daran, dass alle Zahlen mod 26 zu rechnen sind.\n",
    "\n",
    "Beispiel: Wenn Sie den String \"Hallo Welt\" mit key 4 verschlüsseln, sollte als Ergebnis \"LEPPS AIPX\" herauskommen."
   ]
  },
  {
   "cell_type": "code",
   "execution_count": 17,
   "metadata": {},
   "outputs": [
    {
     "data": {
      "text/plain": [
       "'HALLO WELT'"
      ]
     },
     "execution_count": 17,
     "metadata": {},
     "output_type": "execute_result"
    }
   ],
   "source": [
    "def letter_to_number(c):\n",
    "    return ord(c.upper()) - 65\n",
    "\n",
    "\n",
    "def number_to_letter(n):\n",
    "    return chr(n + 65)\n",
    "\n",
    "\n",
    "def caesar_encrypt(message, key):\n",
    "    ciphertext = \"\"  # empty string\n",
    "    for c in message:\n",
    "        if c == \" \":\n",
    "            ciphertext += \" \"\n",
    "        else:\n",
    "            n = letter_to_number(c)\n",
    "            # TODO: Fuegen Sie hier die Verschluesselungsvorschrift ein!\n",
    "            ciphertext += number_to_letter(n)\n",
    "    return ciphertext\n",
    "\n",
    "\n",
    "caesar_encrypt(\"Hallo Welt\", 4)"
   ]
  },
  {
   "cell_type": "markdown",
   "metadata": {},
   "source": [
    "Schreiben Sie jetzt die zugehörige Entschlüsselungsfunktion. Dafür müssen Sie die Verschlüsselungsoperation $a + b$ mod $m$ rückgängig machen, indem Sie das additive Inverse von $b$ addieren."
   ]
  },
  {
   "cell_type": "code",
   "execution_count": 18,
   "metadata": {},
   "outputs": [
    {
     "data": {
      "text/plain": [
       "'LEPPS AIPX'"
      ]
     },
     "execution_count": 18,
     "metadata": {},
     "output_type": "execute_result"
    }
   ],
   "source": [
    "def caesar_decrypt(ciphertext, key):\n",
    "    message = \"\"\n",
    "    for c in ciphertext:\n",
    "        if c == \" \":\n",
    "            message += \" \"\n",
    "        else:\n",
    "            n = letter_to_number(c)\n",
    "            # TODO: Fuegen Sie hier die Entschluesselungsvorschrift ein!\n",
    "            message += number_to_letter(n)\n",
    "    return message\n",
    "\n",
    "\n",
    "caesar_decrypt(\"LEPPS AIPX\", 4)"
   ]
  },
  {
   "cell_type": "markdown",
   "metadata": {},
   "source": [
    "### GGT Berechnung\n",
    "Implementieren Sie die Funktion `ggT(a,b)`, die den größten gemeinsamen Teiler zweier Zahlen $a$ und $b$ berechnet. Verwenden Sie dazu den in der Vorlesung besprochenen Eukldischen Algorithmus.\n",
    "\n",
    "Vermutlich fällt es Ihnen am leichtesten, zunächst eine rekursive Funktion zu implementieren. Können Sie auch alternativ eine Variante mit Schleifen realisieren?"
   ]
  },
  {
   "cell_type": "code",
   "execution_count": 19,
   "metadata": {},
   "outputs": [
    {
     "name": "stdout",
     "output_type": "stream",
     "text": [
      "0 (should be 1)\n",
      "0 (should be 2)\n",
      "0 (should be 1)\n",
      "0 (should be 2)\n",
      "0 (should be 5)\n"
     ]
    },
    {
     "data": {
      "text/plain": [
       "0"
      ]
     },
     "execution_count": 19,
     "metadata": {},
     "output_type": "execute_result"
    }
   ],
   "source": [
    "def ggT(a, b):\n",
    "    \"\"\"Compute the greatest commond divisor of a and b\"\"\"\n",
    "    # TODO: Implementieren Sie die Funktion\n",
    "    return 0\n",
    "\n",
    "\n",
    "print(ggT(10, 1), \"(should be 1)\")\n",
    "print(ggT(10, 2), \"(should be 2)\")\n",
    "print(ggT(10, 3), \"(should be 1)\")\n",
    "print(ggT(10, 4), \"(should be 2)\")\n",
    "print(ggT(10, 5), \"(should be 5)\")\n",
    "\n",
    "ggT(217, 63)"
   ]
  },
  {
   "cell_type": "markdown",
   "metadata": {},
   "source": [
    "### Erweiterter ggT-Algorithmus\n",
    "Implementieren Sie jetzt den erweiterten Euklidischen ggT-Algorithmus. Rückgabe sind die zwei Zahlen $x_0$ und $y_0$.\n",
    "\n",
    "Hinweis: in Python können Sie mehrere Ergebnisse aus einer Funktion durch Komma getrennt zurückgeben. Sie erhalten als Rückgabetyp dann ein sog. Tupel, auf dessen Elemente Sie mit `result[0]`, `result[1]`, etc. zugreifen können."
   ]
  },
  {
   "cell_type": "code",
   "execution_count": 20,
   "metadata": {},
   "outputs": [
    {
     "name": "stdout",
     "output_type": "stream",
     "text": [
      "(0, 0) (Erwartetes Ergebnis: (-2, 7))\n"
     ]
    }
   ],
   "source": [
    "def EggT(a, b, x=1, xx=0, y=0, yy=1):\n",
    "    \"\"\"Compute x_0 and y_0 so that t = ggT(a,b) = a*x_0 + b*y_0\"\"\"\n",
    "    # TODO: Implementieren Sie die Funktion\n",
    "    return 0,0\n",
    "\n",
    "\n",
    "print(EggT(217, 63), \"(Erwartetes Ergebnis: (-2, 7))\")"
   ]
  },
  {
   "cell_type": "markdown",
   "metadata": {},
   "source": [
    "### Multiplikative Inverse\n",
    "Sie können den EggT-Algorithmus wie in der Vorlesung besprochen zur effizienten Berechnung der multiplikativen Inversen benutzen. Schreiben Sie also eine Funktion, die die  multiplikative Inverse unter Verwendung der oben definierten Funktion EggT berechnet."
   ]
  },
  {
   "cell_type": "code",
   "execution_count": 21,
   "metadata": {},
   "outputs": [
    {
     "name": "stdout",
     "output_type": "stream",
     "text": [
      "17 0 0 0\n"
     ]
    }
   ],
   "source": [
    "def multiplicative_inverse(a, m):\n",
    "    \"\"\"Compute the multiplicative inverse of a mod m\"\"\"\n",
    "    #TODO: implementieren Sie die Funktion\n",
    "    return 0\n",
    "\n",
    "\n",
    "a = 17\n",
    "m = 63\n",
    "x = multiplicative_inverse(a, m)\n",
    "\n",
    "# Now, verify that a*x mod m should be 1!\n",
    "print(a, x, a * x, a * x % m)"
   ]
  }
 ],
 "metadata": {
  "kernelspec": {
   "display_name": "Python 3",
   "language": "python",
   "name": "python3"
  },
  "language_info": {
   "codemirror_mode": {
    "name": "ipython",
    "version": 3
   },
   "file_extension": ".py",
   "mimetype": "text/x-python",
   "name": "python",
   "nbconvert_exporter": "python",
   "pygments_lexer": "ipython3",
   "version": "3.11.6"
  }
 },
 "nbformat": 4,
 "nbformat_minor": 2
}
