{
 "cells": [
  {
   "cell_type": "markdown",
   "metadata": {},
   "source": [
    "# Integralrechnung\n",
    "\n",
    "\n",
    "## Imports\n",
    "\n",
    "Führen Sie zunächst den folgenden Code aus, um die relevanten Bibliotheken einzubinden."
   ]
  },
  {
   "cell_type": "code",
   "execution_count": 1,
   "metadata": {},
   "outputs": [],
   "source": [
    "from pylab import *\n",
    "from scipy import *\n",
    "from numpy import *\n",
    "from scipy.optimize import newton"
   ]
  },
  {
   "cell_type": "markdown",
   "metadata": {},
   "source": [
    "## Integrale als Summe"
   ]
  },
  {
   "cell_type": "markdown",
   "metadata": {},
   "source": [
    "Das bestimmte Integral einer Funktion  kann durch eine Summe von Rechtecken angenähert werden: $\\int_a^b f(x) dx\\approx \\sum_i=1^n f(i\\cdot dx)\\cdot dx$, wobei $dx = (b-a)/n$ die Breite der Rechtecke und $f(i\\cdot dx)$ ist.\n",
    "Schreiben Sie eine Funktion `integral`, die das bestimmte Integral einer Funktion $f$ bei gegebenem $a$, $b$ und $n$ berechnet."
   ]
  },
  {
   "cell_type": "code",
   "execution_count": 3,
   "metadata": {},
   "outputs": [],
   "source": [
    "def integral(f, a, b, n_steps):\n",
    "  x = linspace(a, b, n_steps)\n",
    "  fx = f(x)\n",
    "  dx = (b-a)/n_steps\n",
    "  return sum(f(x)*dx)\n"
   ]
  },
  {
   "cell_type": "markdown",
   "metadata": {},
   "source": [
    "Testen Sie Ihre Funktion mit dem folgenden Code, der das numerische berechnete Integral mit dem exakten Wert vergleicht. Variieren Sie die Anzahl an Schritten $n$. Ab welcher Schrittzahl $n$ erhalten Sie ein brauchbares Ergebnis?"
   ]
  },
  {
   "cell_type": "code",
   "execution_count": 7,
   "metadata": {},
   "outputs": [
    {
     "name": "stdout",
     "output_type": "stream",
     "text": [
      "Exaktes Integral: 0.25\n",
      "Numerisch berechnet: 0.25002500250025006\n"
     ]
    }
   ],
   "source": [
    "f = lambda x: x**3 # Die zu integrierende Funktion f\n",
    "F = lambda x: 1/4*x**4 # Eine Stammfunktion von f\n",
    "\n",
    "# Anzahl an Schritten:\n",
    "n = 100\n",
    "\n",
    "# Integrationsgrenzen\n",
    "a = 0\n",
    "b = 1\n",
    "\n",
    "# Ausgabe\n",
    "print(\"Exaktes Integral:\", F(b)-F(a))\n",
    "print(\"Numerisch berechnet:\", integral(f, a, b, n))"
   ]
  },
  {
   "cell_type": "markdown",
   "metadata": {},
   "source": [
    "### Berechnung von $\\pi$"
   ]
  },
  {
   "cell_type": "markdown",
   "metadata": {},
   "source": [
    "Der Rand eines Kreises mit Radius $1$ ist beschrieben durch die Menge an Punkten $(x,y)$, für die gilt $x^2 + y^2 = 1$. Im rechten oberen Quadrant kann die Formel eindeutig nach $y$ aufgelöst werden: $y=\\sqrt{1-x^2}$. Damit kann die Fläche des rechten oberen Quadranten berechnet werden als $\\int_0^1 \\sqrt{1-x^2}dx$.\n",
    "\n",
    "Die Fläche eines Kreises mit Radius $1$ ist $\\pi$, die Fläche des rechten oberen Quadranten ist ein Viertel der Kreisfläche: $\\frac 14 \\pi$. Damit kann $\\pi$ über die numerische Integration berechnet werden: $\\pi = \\int_0^1 4\\sqrt{1-x^2} dx$.\n",
    "\n",
    "Nutzen Sie diese Formel, um durch numerische Integration eine gute Näherung für $\\pi$ zu berechnen. \n",
    "\n",
    "Plotten Sie die Differenz zwischen dem berechneten Wert und dem tatsächlichen Wert von $pi$ als Funktion der Anzahl an Schritten."
   ]
  },
  {
   "cell_type": "code",
   "execution_count": 11,
   "metadata": {},
   "outputs": [
    {
     "data": {
      "text/plain": [
       "3.1414773182871603"
      ]
     },
     "execution_count": 11,
     "metadata": {},
     "output_type": "execute_result"
    }
   ],
   "source": [
    "# Funktion um pi als Funktion der Schrittanzahl zu berechnen.\n",
    "def compute_pi(n_steps):\n",
    "  # TODO\n",
    "  return 3 # exakt genug?\n",
    "\n",
    "# TODO: plotte die Differenz pi - compute_pi(n) als Funktion von n\n"
   ]
  },
  {
   "cell_type": "markdown",
   "metadata": {},
   "source": [
    "## Anwendungsaufgaben"
   ]
  },
  {
   "attachments": {
    "image.png": {
     "image/png": "[encoded data removed]"
    }
   },
   "cell_type": "markdown",
   "metadata": {},
   "source": [
    "### Blutdruck-Medikament\n",
    "Durch die Einnahme eines Medikaments zur Regulierung des Blutdrucks gelangen Wirkstoffe ins Blut. Die Wirkstoffmenge im Blut kann näherungsweise durch eine Funktion m beschrieben werden, deren 1. Ableitung bekannt ist:  \n",
    "$m'(t)= 1,2\\cdot e^{-0,04t}  - 0,1$ mit $t \\geq 0$  \n",
    "$t$: Zeit in min  \n",
    "$m'(t)$:  momentane Änderungsrate der Wirkstoffmenge im Blut zur Zeit t in mg/min\n",
    "\n",
    "Zum Zeitpunkt $t = 0$ beträgt die Wirkstoffmenge im Blut 10 mg.\n",
    "1. Erstellen Sie eine Gleichung der Funktion m.\n",
    "2. Berechnen Sie, nach welcher Zeit der Wirkstoff vollständig abgebaut ist.\n",
    "Anmerkung: Die Lösung der entsprechenden Gleichung kann nur näherungsweise berechnet werden, nutzen Sie hierfür bspw. das Newton-Verfahren.\n",
    "\n",
    "Quelle: [![image.png](attachment:image.png)](https://mathematikmachtfreunde.univie.ac.at/)"
   ]
  },
  {
   "cell_type": "markdown",
   "metadata": {},
   "source": [
    "## Quadraturformeln"
   ]
  },
  {
   "cell_type": "code",
   "execution_count": null,
   "metadata": {},
   "outputs": [],
   "source": []
  }
 ],
 "metadata": {
  "kernelspec": {
   "display_name": "Python 3",
   "language": "python",
   "name": "python3"
  },
  "language_info": {
   "codemirror_mode": {
    "name": "ipython",
    "version": 3
   },
   "file_extension": ".py",
   "mimetype": "text/x-python",
   "name": "python",
   "nbconvert_exporter": "python",
   "pygments_lexer": "ipython3",
   "version": "3.11.9"
  }
 },
 "nbformat": 4,
 "nbformat_minor": 2
}
