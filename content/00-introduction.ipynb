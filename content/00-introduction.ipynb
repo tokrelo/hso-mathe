{
 "cells": [
  {
   "cell_type": "code",
   "execution_count": null,
   "metadata": {},
   "outputs": [],
   "source": [
    "from pylab import *\n",
    "from scipy import *\n",
    "from numpy import *"
   ]
  },
  {
   "cell_type": "markdown",
   "metadata": {},
   "source": [
    "# Einführung\n",
    "\n",
    "## print\n",
    "\n",
    "## Definition von Funktionen\n",
    "\n",
    "## Auswertung von Funktionen\n",
    "\n",
    "## Erstellen von arrays und ranges\n",
    "\n",
    "## Schleifen\n",
    "\n",
    "## Plotting von Funktionen"
   ]
  }
 ],
 "metadata": {
  "language_info": {
   "name": "python"
  }
 },
 "nbformat": 4,
 "nbformat_minor": 2
}
