{
 "cells": [
  {
   "cell_type": "markdown",
   "metadata": {},
   "source": [
    "# Reguläre Ausdrücke mit Python\n",
    "\n",
    "Python verfügt über das Paket `re`, mit dem Sie mit regulären Ausdrücken arbeiten können."
   ]
  },
  {
   "cell_type": "code",
   "execution_count": 2,
   "metadata": {},
   "outputs": [],
   "source": [
    "import re"
   ]
  },
  {
   "cell_type": "markdown",
   "metadata": {},
   "source": [
    "Mit dem Paket `re` können Sie nach regulären Ausdrücken in Texten suchen. Hier suchen wir nach einem Textteil, der mit \"Hoch\" beginnt und mit \"burg\" endet. Dabei nutzen Sie für den regulären Ausdruck am bestenen eingen sogenannten \"raw string\", den Sie durch ein Präfix `r` vor dem Anführungszeichen erzeugen. Lediglich Anführungszeichen müssen in einem raw String noch mit backslash escaped werden."
   ]
  },
  {
   "cell_type": "code",
   "execution_count": null,
   "metadata": {},
   "outputs": [
    {
     "data": {
      "text/plain": [
       "<re.Match object; span=(0, 50), match='Hochschule für angewandte Wissenschaften Offenbur>"
      ]
     },
     "execution_count": 11,
     "metadata": {},
     "output_type": "execute_result"
    }
   ],
   "source": [
    "txt = \"Hochschule für angewandte Wissenschaften Offenburg\"\n",
    "re.search(r\"Hoch.*burg\", txt)"
   ]
  },
  {
   "cell_type": "markdown",
   "metadata": {},
   "source": [
    "Falls Sie den gleichen regulären Ausdruck mehrfach verwenden wollen, können Sie ihn auch kompiliert abpeichern, dann muss er nicht jedes mal neu übersetzt werden. Das spielt aber nur bei vielen und komplizierten Ausdrücken eine Rolle."
   ]
  },
  {
   "cell_type": "code",
   "execution_count": 38,
   "metadata": {},
   "outputs": [
    {
     "data": {
      "text/plain": [
       "<re.Match object; span=(0, 50), match='Hochschule für angewandte Wissenschaften Offenbur>"
      ]
     },
     "execution_count": 38,
     "metadata": {},
     "output_type": "execute_result"
    }
   ],
   "source": [
    "prog = re.compile(r\"Hoch.*burg\")\n",
    "prog.search(txt)"
   ]
  },
  {
   "cell_type": "markdown",
   "metadata": {},
   "source": [
    "Die wichtigsten Funktionen des re Moduls sind: \n",
    "* `findall`: Eine Liste aller matches.\n",
    "* `search`: ein Objekt vom Typ `match`, falls es irgendwo im Text ein match gibt, sonst `None``\n",
    "* `sub`: Erstetzt eines oder mehrere Matches im String\n",
    "\n",
    "## Findall\n",
    "Wir suchen nach allen Wörtern im Text, die mit einem, Großbuchstaben beginnen. Das Ergebnis ist eine Liste, wir können mit Index-Notation auf die einzelnen Einträge zugreifen."
   ]
  },
  {
   "cell_type": "code",
   "execution_count": 31,
   "metadata": {},
   "outputs": [
    {
     "name": "stdout",
     "output_type": "stream",
     "text": [
      "['Hochschule', 'Wissenschaften', 'Offenburg']\n",
      "Offenburg\n"
     ]
    }
   ],
   "source": [
    "regex = r\"[A-Z]\\w*\"\n",
    "result = re.findall(regex, txt)\n",
    "print(result) # Ganze Liste ausgeben\n",
    "print(result[2]) # Drittes Element ausgeben"
   ]
  },
  {
   "cell_type": "markdown",
   "metadata": {},
   "source": [
    "### Aufgabe\n",
    "Geben Sie alle Wörter aus, die ein \"ch\" an irgendeiner Stelle enthalten."
   ]
  },
  {
   "cell_type": "code",
   "execution_count": 36,
   "metadata": {},
   "outputs": [
    {
     "data": {
      "text/plain": [
       "[]"
      ]
     },
     "execution_count": 36,
     "metadata": {},
     "output_type": "execute_result"
    }
   ],
   "source": [
    "regex = r\"TODO\" # TODO\n",
    "re.findall(regex, txt)"
   ]
  },
  {
   "cell_type": "markdown",
   "metadata": {},
   "source": [
    "## Search\n",
    "Search durchsucht den string und gibt den **ersten** Treffer als `match` Objekt zurück. Jeder Teil des regex in runden Klammern ist eine `group` des Objekts, auf die Sie einzeln zugreifen können.\n",
    "\n",
    "Bei der folgenden Suche nach großgeschriebenen Wörtern mit beliebigen Zeichen dazwischen können Sie gut den greedy-Charakter der Suche sehen."
   ]
  },
  {
   "cell_type": "code",
   "execution_count": 46,
   "metadata": {},
   "outputs": [
    {
     "name": "stdout",
     "output_type": "stream",
     "text": [
      "Hochschule für angewandte Wissenschaften Offenburg\n",
      "Hochschule\n",
      "Offenburg\n"
     ]
    }
   ],
   "source": [
    "regex = r\"([A-Z]\\w*)\\s.*([A-Z]\\w*)\"\n",
    "match = re.search(regex, txt)\n",
    "if match: # Prüfen ob Match gefunden wurde\n",
    "    print(match.group(0)) # Ganzer Match\n",
    "    print(match.group(1)) # Erster Teil\n",
    "    print(match.group(2)) # Zweiter Teil\n",
    "else:\n",
    "    print(\"Kein Match gefunden, match is\", match)"
   ]
  },
  {
   "cell_type": "markdown",
   "metadata": {},
   "source": [
    "## Sub\n",
    "Mit sub können die gefundenen Pattern durch etwas anderes ersetzt werden."
   ]
  },
  {
   "cell_type": "code",
   "execution_count": null,
   "metadata": {},
   "outputs": [],
   "source": [
    "regex = "
   ]
  }
 ],
 "metadata": {
  "kernelspec": {
   "display_name": ".venv",
   "language": "python",
   "name": "python3"
  },
  "language_info": {
   "codemirror_mode": {
    "name": "ipython",
    "version": 3
   },
   "file_extension": ".py",
   "mimetype": "text/x-python",
   "name": "python",
   "nbconvert_exporter": "python",
   "pygments_lexer": "ipython3",
   "version": "3.12.7"
  }
 },
 "nbformat": 4,
 "nbformat_minor": 2
}
