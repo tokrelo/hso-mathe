{
 "cells": [
  {
   "cell_type": "markdown",
   "metadata": {},
   "source": [
    "# Einführung\n",
    "\n",
    "Herzlich Willkommen zum ersten Jupyter Notebook für die Mathematik-Vorlesungen.\n",
    "Dieses Dokument beginnt mit einer grundlegenden Einführung in Python.\n",
    "Danach erfahren Sie Schritt für Schritt, wie Sie mit Python mathematische\n",
    "Funktionen definieren, auswerten und grafisch darstellen können.\n",
    "\n",
    "## Jupyter Notebook\n",
    "Ein Jupyter Notebook, wie dieses Dokument, ist eine Mischung aus Text-Zellen\n",
    "und Code Zellen. Um eine Code-Zelle auszuführen, klicken Sie auf das Dreieck neben\n",
    "der Zelle oder drücken Sie Shift+Enter. Probieren Sie es gleich für die nächste Zelle\n",
    "aus!\n",
    "\n"
   ]
  },
  {
   "cell_type": "code",
   "execution_count": null,
   "metadata": {},
   "outputs": [],
   "source": [
    "2 + 3"
   ]
  },
  {
   "cell_type": "markdown",
   "metadata": {},
   "source": [
    "Wenn Sie die Zelle ausführen, verwenden Sie gerade Python als Taschenrechner und\n",
    "es erscheint die Zahl 5. \n",
    "\n",
    "Standardmäßig wird nach einer Zelle immer der Wert der letzten Berechnung\n",
    "ausgegeben. Wenn Sie mehrere oder andere  Werte ausgeben möchten, verwenden\n",
    "Sie die Funktion `print`. Mit Komma getrennt können Sie mehrere Werte in einem\n",
    "Aufruf ausgeben. Sie können Zahlen oder Text ausgeben."
   ]
  },
  {
   "cell_type": "code",
   "execution_count": null,
   "metadata": {},
   "outputs": [],
   "source": [
    "print(2 + 3)\n",
    "print(2 - 3)\n",
    "print(2 * 3, 2 / 3)\n",
    "print(\"Hallo Welt\")"
   ]
  },
  {
   "cell_type": "markdown",
   "metadata": {},
   "source": [
    "## Bedingungen\n",
    "Bedingungen ermöglichen es, Entscheidungen im Code zu treffen. Hier ist ein Beispiel:"
   ]
  },
  {
   "cell_type": "code",
   "execution_count": null,
   "metadata": {},
   "outputs": [],
   "source": [
    "x = 10\n",
    "if x > 5:\n",
    "    print(\"x ist größer als 5\")\n",
    "else:\n",
    "    print(\"x ist kleiner oder gleich 5\")"
   ]
  },
  {
   "cell_type": "code",
   "execution_count": null,
   "metadata": {},
   "outputs": [],
   "source": []
  },
  {
   "cell_type": "markdown",
   "metadata": {},
   "source": [
    "## Mathematische Pakete\n",
    "Wir benötigen regelmäßig Funktionen zum berechnen von mathematischen Funktionen,\n",
    "rechnen mit Zahlenbereichen sowie zum grafischen Darstellen von Daten. \n",
    "Hierfür müssen die entsprechenden Pakete in Python importiert werden. Führen\n",
    "Sie dazu die folgende Zelle aus. **Achtung:**  Diesen Import müssen Sie **jedesmal** ausführen,\n",
    "wenn Sie ein Notebook neu öffnen, ansonsten sind die benötigen Funktionen nicht\n",
    "verfügbar und Sie erhalten z.T. merkwürdige Fehlermeldungen!"
   ]
  },
  {
   "cell_type": "code",
   "execution_count": 2,
   "metadata": {},
   "outputs": [],
   "source": [
    "from numpy import *\n",
    "from scipy import *\n",
    "from pylab import *"
   ]
  },
  {
   "cell_type": "markdown",
   "metadata": {},
   "source": [
    "Jetzt können typische mathematische Funktionen, wie sin, exp oder sqrt, verwendet\n",
    "werden."
   ]
  },
  {
   "cell_type": "code",
   "execution_count": null,
   "metadata": {},
   "outputs": [],
   "source": [
    "print(sin(pi), exp(1), sqrt(2))"
   ]
  },
  {
   "cell_type": "markdown",
   "metadata": {},
   "source": [
    "Vermutlich ist bei Ihnen die erste Ausgabe so etwas wie 1.224e-16.\n",
    "Das ist die übliche Exponentialdarstellung von Zahlen und bedeuted $1,224\\cdot 10^{-16}$\n",
    "und ist ungefähr 0. Exakt 0 zu erreichen und auszugeben ist aufgrund von Rundungsfehlern\n",
    "oft nicht möglich."
   ]
  },
  {
   "cell_type": "markdown",
   "metadata": {},
   "source": [
    "## Definition von Funktionen\n",
    "Sehr häufig benötigen wir Funktionen - einerseits, um Code wiederverwenden\n",
    "zu können, andererseits um mathematische Funktionen zu beschreiben.\n",
    "Eine Funktion können Sie in Python auf zwei verschiedene Arten definieren: mit `def`\n",
    "für eine \"normale\" Funktion oder mit `lambda` für eine Inline Funktion:\n"
   ]
  },
  {
   "cell_type": "code",
   "execution_count": 13,
   "metadata": {},
   "outputs": [],
   "source": [
    "def f(x):\n",
    "    return x**2\n",
    "\n",
    "g = lambda x: x**3"
   ]
  },
  {
   "cell_type": "markdown",
   "metadata": {},
   "source": [
    "Die Funktionen können Sie für eine einzelne Zahl oder für ein ganzes Array von\n",
    "Zahlen aufrufen. Achten Sie darauf, dass Sie die Zelle oben, in der die Funktionen\n",
    "definiert sind, ausgeführt haben!"
   ]
  },
  {
   "cell_type": "code",
   "execution_count": null,
   "metadata": {},
   "outputs": [],
   "source": [
    "# Aufruf für einzelne Werte\n",
    "print(f(2), g(2))\n",
    "\n",
    "# Aufruf für Arrays\n",
    "x = array([1, 2, 3])\n",
    "print(f(x), g(x))"
   ]
  },
  {
   "cell_type": "markdown",
   "metadata": {},
   "source": [
    "### Funktionen mit Parametern\n",
    "Sie können auch mehrere Werte an eine Funktion übergeben:"
   ]
  },
  {
   "cell_type": "code",
   "execution_count": null,
   "metadata": {},
   "outputs": [],
   "source": [
    "def h(x, a, b):\n",
    "    return a*x + b\n",
    "\n",
    "print(h(1, 2, 3))\n",
    "\n",
    "x = array([1, 2, 3])\n",
    "a = 3\n",
    "b = 4\n",
    "print(h(x, a, b))"
   ]
  },
  {
   "cell_type": "markdown",
   "metadata": {},
   "source": [
    "### Verkettete Funktionen\n",
    "Funktionen können natürlich auch andere Funktionen aufrufen:"
   ]
  },
  {
   "cell_type": "code",
   "execution_count": null,
   "metadata": {},
   "outputs": [],
   "source": [
    "def f_h(x):\n",
    "  return f(h(x, 1, 2))\n",
    "\n",
    "print(f_h(1))"
   ]
  },
  {
   "cell_type": "markdown",
   "metadata": {},
   "source": [
    "### Aufgabe: Quadrat ist kleiner als\n",
    "Schreiben Sie eine Funktion `square_is_less_than`, die zwei Parameter $x$ und $a$\n",
    "hat und den Wert `True` zurückgibt, falls $x^2 < a$, ansonsten den Wert `False`.\n",
    "(True und False sind in Python die Konstanten für Wahr und Falsch). Überprüfen Sie \n",
    "Ihr Ergebnis, indem Sie einige Werte ausgeben."
   ]
  },
  {
   "cell_type": "code",
   "execution_count": null,
   "metadata": {},
   "outputs": [],
   "source": [
    "def square_is_less_than(x, a):\n",
    "  # TODO: Implementiere die Funktion\n",
    "  return True\n",
    "\n",
    "\n",
    "print(\"Erwarte True:\", square_is_less_than(1, 2))\n",
    "print(\"Erwarte False:\", square_is_less_than(2, 2))"
   ]
  },
  {
   "cell_type": "markdown",
   "metadata": {},
   "source": [
    "## Numpy arrays\n",
    "### Erstellen von arrays und ranges\n",
    "Außer mit einzelnen Werten, können wir auch Arrays mit einer bestimmten Anzahl\n",
    "an Nullen oder Einsen erstellen.\n",
    "\n",
    "Arrays kommen aus dem Paket numpy und sind einfach genial! Sie können mit Arrays\n",
    "fast so arbeiten, wie mit einzelnen Zahlen - die Rechenoperationen werden für\n",
    "jeden Array-Eintrag einzeln ausgeführt."
   ]
  },
  {
   "cell_type": "code",
   "execution_count": null,
   "metadata": {},
   "outputs": [],
   "source": [
    "a1 = zeros(5) # Entspricht array([0, 0, 0, 0, 0])\n",
    "a2 = ones(5) # Entspricht array([1, 1, 1, 1, 1])\n",
    "print(a1, a2, 2*a1 + 3*a2)\n"
   ]
  },
  {
   "cell_type": "markdown",
   "metadata": {},
   "source": [
    "Oder es kann ein Range erstellt werden:"
   ]
  },
  {
   "cell_type": "code",
   "execution_count": null,
   "metadata": {},
   "outputs": [],
   "source": [
    "# Definierter Bereich und Anzahl von Werten\n",
    "a3 = linspace(0, 1, 5) # Entspricht array([0, 0.25, 0.5, 0.75, 1])\n",
    "print(\"a3\", a3)\n",
    "print(\"sqrt(a3)\", sqrt(a3))\n",
    "\n",
    "# Definierter Bereich und Schrittweite\n",
    "a4 = arange(0, 1, 0.25) # Entspricht array([0, 0.25, 0.5, 0.75])\n",
    "print(\"a4\", a4)\n",
    "\n",
    "# Für ganze Zahlen gibt es auch range (Achtung, kein numpy-Array)\n",
    "a5 = range(0, 5) # Enthält 0, 1, 2, 3, 4"
   ]
  },
  {
   "cell_type": "markdown",
   "metadata": {},
   "source": [
    "### Array Slicing\n",
    "Array Slicing** ist eine Technik, mit der man Teile eines Arrays extrahieren kann, indem man Start-, End- und Schrittwerte angibt. Dies ist besonders nützlich, um auf Unterbereiche eines Arrays zuzugreifen oder diese zu modifizieren.\n",
    "\n",
    "Die allgemeine Syntax für das Slicing eines Arrays lautet:\n",
    "```python\n",
    "array[start:end:step]\n",
    "```\n",
    "\n",
    "Hierbei ist:\n",
    "* start: Der Index, bei dem das Slicing beginnt (inklusive). Wenn dieser Wert weggelassen wird, beginnt das Slicing bei Index 0.\n",
    "* end: Der Index, bei dem das Slicing endet (exklusive). Das bedeutet, das Element am end-Index wird nicht in das Ergebnis einbezogen.\n",
    "* step: Gibt an, wie viele Elemente übersprungen werden sollen. Wenn dieser Wert nicht angegeben wird, ist der Schrittwert standardmäßig 1."
   ]
  },
  {
   "cell_type": "code",
   "execution_count": null,
   "metadata": {},
   "outputs": [],
   "source": [
    "# Erstellen eines Arrays von 0 bis 9\n",
    "array = arange(10)\n",
    "print(\"Original Array:\", array)\n",
    "\n",
    "# Extrahiere die ersten 5 Elemente\n",
    "first_five = array[:5]\n",
    "print(\"Slicing bis zum 5. Element:\", first_five)\n",
    "\n",
    "# Extrahiere die letzten 3 Elemente\n",
    "last_three = array[-3:]\n",
    "print(\"Letzte 3 Elemente:\", last_three)\n",
    "\n",
    "# Extrahiere jedes zweite Element\n",
    "every_second = array[::2]\n",
    "print(\"Jedes zweite Element:\", every_second)\n",
    "\n",
    "# Slicing mit Start- und Endwert\n",
    "sub_array = array[2:7]\n",
    "print(\"Elemente von Index 2 bis 6:\", sub_array)"
   ]
  },
  {
   "cell_type": "markdown",
   "metadata": {},
   "source": [
    "### Array Indices mit Bedingungen definieren\n",
    "Sie können auch eine Bedingung als Array Index angeben - das Ergebnis sind alle\n",
    "Einträge, für die die Bedingung erfüllt ist."
   ]
  },
  {
   "cell_type": "code",
   "execution_count": null,
   "metadata": {},
   "outputs": [],
   "source": [
    "# Alle Werte größer als 5\n",
    "array = arange(10)\n",
    "greater_than_five = array[array > 5]\n",
    "print(\"Werte größer als 5:\", greater_than_five)"
   ]
  },
  {
   "cell_type": "markdown",
   "metadata": {},
   "source": [
    "Wenn Sie mehrere Bedingungen für die Array Indices verknüpfen wollen, können Sie das mit den logischen Operator `&`für \"und\" sowie `|` für \"oder\" machen."
   ]
  },
  {
   "cell_type": "code",
   "execution_count": null,
   "metadata": {},
   "outputs": [],
   "source": [
    "between_3_and_5 = array[(array >= 3) & (array <= 5)]\n",
    "print(\"Werte zwischen 3 und 5:\", between_3_and_5)"
   ]
  },
  {
   "cell_type": "markdown",
   "metadata": {},
   "source": [
    "## Schleifen\n",
    "Mit einer for-Schleife können Sie nacheinander auf alle Elemente in einem Range\n",
    "oder einem Array zugreifen."
   ]
  },
  {
   "cell_type": "code",
   "execution_count": null,
   "metadata": {},
   "outputs": [],
   "source": [
    "# Schleife über einen Range\n",
    "for i in a5:\n",
    "    print(i)\n",
    "\n",
    "# Schleife über ein Array\n",
    "for i in a3:\n",
    "    print(i)\n",
    "  "
   ]
  },
  {
   "cell_type": "markdown",
   "metadata": {},
   "source": [
    "## Plotting mit matplotlib\n",
    "\n",
    "Dieser Abschnitt dient  als Einführung ins Plotten mit matplotlib. Hier sehen Sie ein Beispiel, wie die Funktion $f(x,a,b) = a\\cdot x^2 + b$ geplottet wird. In matplotlib werden zum Plotten Punkte $x$ mit zugehörigen Funktionswerten $y$ benötigt. Es wird zunächst die Funktion definiert, danach werden Werte $x$ definiert, an denen die Funktion ausgewertet werden soll. Die Funktionswerte werden in $y$ gespeichert und dann wird $x$ gegen $y$ geplottet.\n",
    "\n",
    "Führen Sie den Code aus, um die Grafik zu erzeugen."
   ]
  },
  {
   "cell_type": "code",
   "execution_count": null,
   "metadata": {},
   "outputs": [],
   "source": [
    "def f(x, a, b):\n",
    "    \"\"\"Definition der Funktion f(x,a,b)\"\"\"\n",
    "    return a * x * x + b\n",
    "\n",
    "\n",
    "# Definiere x: 100 Werte im Intervall [-2,2)\n",
    "x = linspace(-2, 2, 100)\n",
    "\n",
    "# Berechne Funktionswerte y.\n",
    "y = f(x, 2, -3)\n",
    "\n",
    "plot(x, y)  # Plotte x und y (als Linie)\n",
    "\n",
    "# Optional: Titel und Achsenbeschriftungen\n",
    "title('$2 x^2 - 3$')\n",
    "xlabel(\"x\")\n",
    "ylabel(\"y\")"
   ]
  },
  {
   "cell_type": "markdown",
   "metadata": {},
   "source": [
    "### Aufgabe: Plotting\n",
    "Plotten Sie die Funktion $e^{\\sqrt{x}}$ im Bereich $1\\leq x\\leq20$."
   ]
  },
  {
   "cell_type": "code",
   "execution_count": null,
   "metadata": {},
   "outputs": [],
   "source": [
    "# Plotten Sie die Funktion"
   ]
  },
  {
   "cell_type": "markdown",
   "metadata": {},
   "source": [
    "## Abschnittsweise definierte Funktionen\n",
    "In der Mathematik können Funktionen abschnittsweise definiert sein, ein Beispiel \n",
    "ist die Betragsfunktion:\n",
    "$$\n",
    "|x| =\n",
    "\\begin{cases} \n",
    "x, & \\text{wenn } x \\geq 0 \\\\\n",
    "-x, & \\text{wenn } x < 0\n",
    "\\end{cases}\n",
    "$$\n",
    "\n",
    "Wenn wir diese Funktion in Python implementieren wollen, können wir eine if-Bedingung nutzen:"
   ]
  },
  {
   "cell_type": "code",
   "execution_count": null,
   "metadata": {},
   "outputs": [],
   "source": [
    "def abs1(x):\n",
    "  if x < 0:\n",
    "    return -x\n",
    "  else:\n",
    "    return x\n",
    "  \n",
    "print(abs1(1), abs1(-1))"
   ]
  },
  {
   "cell_type": "markdown",
   "metadata": {},
   "source": [
    "Allerdings können Sie die Funktion nicht wie oben gezeigt plotten, \n",
    "da Sie die Funktion nicht für ein Array auswerten können. Zum Plotten können Sie\n",
    "entweder die Funktion in einer Schleife auswerten:"
   ]
  },
  {
   "cell_type": "code",
   "execution_count": null,
   "metadata": {},
   "outputs": [],
   "source": [
    "x = linspace(-2, 2, 100)\n",
    "y = zeros(100)\n",
    "for i in range(100):\n",
    "    y[i] = abs1(x[i])\n",
    "\n",
    "plot(x, y)"
   ]
  },
  {
   "cell_type": "markdown",
   "metadata": {},
   "source": [
    "Oder, Sie definieren die Funktion so, dass sie für Arrays funktioniert:"
   ]
  },
  {
   "cell_type": "code",
   "execution_count": null,
   "metadata": {},
   "outputs": [],
   "source": [
    "def abs2(x):\n",
    "  result = zeros_like(x) # Um x nicht zu verändern, array mit gleicher Größe erstellen\n",
    "  result[x < 0] = -x[x < 0] # Alle Indexe, die kleiner 0 sind, negieren\n",
    "  result[x >= 0] = x[x >= 0] # Alle Indexe, die größer oder gleich 0 sind, belassen\n",
    "  return result\n",
    "\n",
    "# Ganz normal plotten\n",
    "x = linspace(-2, 2, 11)\n",
    "y = abs2(x)\n",
    "print(x, y)\n",
    "plot(x, y)"
   ]
  },
  {
   "cell_type": "markdown",
   "metadata": {},
   "source": [
    "### Aufgabe: Trapezfunktion\n",
    "\n",
    "Betrachten Sie die folgende Funktionstefinition der Funktion $t(x)$:\n",
    "$$\n",
    "t(x) =\n",
    "\\begin{cases} \n",
    "0, & \\text{wenn } x < 0 \\\\\n",
    "x, & \\text{wenn } 0 \\leq x < 1 \\\\\n",
    "1, & \\text{wenn } x \\geq 1\n",
    "\\end{cases}\n",
    "$$\n",
    "\n",
    "Definieren Sie die Funktion t(x) und erstellen Sie einen Plot im Bereich -2 bis 2."
   ]
  },
  {
   "cell_type": "code",
   "execution_count": 45,
   "metadata": {},
   "outputs": [],
   "source": [
    "def t(x):\n",
    "  # TODO: Implementieren Sie die Funktion\n",
    "  return x\n",
    "\n",
    "# TODO: plotten Sie die Funktion"
   ]
  }
 ],
 "metadata": {
  "kernelspec": {
   "display_name": ".venv",
   "language": "python",
   "name": "python3"
  },
  "language_info": {
   "codemirror_mode": {
    "name": "ipython",
    "version": 3
   },
   "file_extension": ".py",
   "mimetype": "text/x-python",
   "name": "python",
   "nbconvert_exporter": "python",
   "pygments_lexer": "ipython3",
   "version": "3.12.9"
  }
 },
 "nbformat": 4,
 "nbformat_minor": 2
}
