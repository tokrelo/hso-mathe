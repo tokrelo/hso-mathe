{
 "cells": [
  {
   "cell_type": "markdown",
   "metadata": {},
   "source": [
    "# Einführung\n",
    "\n",
    "Herzlich Willkommen zum ersten Jupyter Notebook für die Mathematik-Vorlesungen.\n",
    "Dieses Dokument beginnt mit einer grundlegenden Einführung in Python.\n",
    "Danach erfahren Sie Schritt für Schritt, wie Sie mit Python mathematische\n",
    "Funktionen definieren, auswerten und grafisch darstellen können.\n",
    "\n",
    "## Jupyter Notebook\n",
    "Ein Jupyter Notebook, wie dieses Dokument, ist eine Mischung aus Text-Zellen\n",
    "und Code Zellen. Um eine Code-Zelle auszuführen, klicken Sie auf das Dreieck neben\n",
    "der Zelle oder drücken Sie Shift+Enter. Probieren Sie es gleich für die nächste Zelle\n",
    "aus!\n",
    "\n"
   ]
  },
  {
   "cell_type": "code",
   "execution_count": null,
   "metadata": {},
   "outputs": [],
   "source": [
    "2 + 3"
   ]
  },
  {
   "cell_type": "markdown",
   "metadata": {},
   "source": [
    "Wenn Sie die Zelle ausführen, verwenden Sie gerade Python als Taschenrechner und\n",
    "es erscheint die Zahl 5. \n",
    "\n",
    "Standardmäßig wird nach einer Zelle immer der Wert der letzten Berechnung\n",
    "ausgegeben. Wenn Sie mehrere oder andere  Werte ausgeben möchten, verwenden\n",
    "Sie die Funktion `print`. Mit Komma getrennt können Sie mehrere Werte in einem\n",
    "Aufruf ausgeben. Sie können Zahlen oder Text ausgeben."
   ]
  },
  {
   "cell_type": "code",
   "execution_count": null,
   "metadata": {},
   "outputs": [],
   "source": [
    "print(2 + 3)\n",
    "print(2 - 3)\n",
    "print(2 * 3, 2 / 3)\n",
    "print(\"Hallo Welt\")"
   ]
  },
  {
   "cell_type": "markdown",
   "metadata": {},
   "source": [
    "## Grundlagen\n",
    "\n",
    "### Bedingungen\n",
    "Bedingungen ermöglichen es, Entscheidungen im Code zu treffen. Hier ist ein Beispiel:"
   ]
  },
  {
   "cell_type": "code",
   "execution_count": null,
   "metadata": {},
   "outputs": [],
   "source": [
    "x = 10\n",
    "if x > 5:\n",
    "    print(\"x ist größer als 5\")\n",
    "else:\n",
    "    print(\"x ist kleiner oder gleich 5\")"
   ]
  },
  {
   "cell_type": "code",
   "execution_count": null,
   "metadata": {},
   "outputs": [],
   "source": []
  },
  {
   "cell_type": "markdown",
   "metadata": {},
   "source": [
    "### Mathematische Pakete\n",
    "Wir benötigen regelmäßig Funktionen zum berechnen von mathematischen Funktionen,\n",
    "rechnen mit Zahlenbereichen sowie zum grafischen Darstellen von Daten. \n",
    "Hierfür müssen die entsprechenden Pakete in Python importiert werden. Führen\n",
    "Sie dazu die folgende Zelle aus. **Achtung:**  Diesen Import müssen Sie **jedesmal** ausführen,\n",
    "wenn Sie ein Notebook neu öffnen, ansonsten sind die benötigen Funktionen nicht\n",
    "verfügbar und Sie erhalten z.T. merkwürdige Fehlermeldungen!"
   ]
  },
  {
   "cell_type": "code",
   "execution_count": 2,
   "metadata": {},
   "outputs": [],
   "source": [
    "import numpy as np\n",
    "import matplotlib.pyplot as plt\n",
    "import scipy"
   ]
  },
  {
   "cell_type": "markdown",
   "metadata": {},
   "source": [
    "Jetzt können typische mathematische Funktionen, wie sin, exp oder sqrt, verwendet\n",
    "werden.\n",
    "Achten Sie darauf, die Funktion aus numpy zu verwenden."
   ]
  },
  {
   "cell_type": "code",
   "execution_count": null,
   "metadata": {},
   "outputs": [],
   "source": [
    "print(np.sin(np.pi), np.exp(1), np.sqrt(2))"
   ]
  },
  {
   "cell_type": "markdown",
   "metadata": {},
   "source": [
    "Vermutlich ist bei Ihnen die erste Ausgabe so etwas wie 1.224e-16.\n",
    "Das ist die übliche Exponentialdarstellung von Zahlen und bedeuted $1,224\\cdot 10^{-16}$\n",
    "und ist ungefähr 0. Exakt 0 zu erreichen und auszugeben ist aufgrund von Rundungsfehlern\n",
    "oft nicht möglich."
   ]
  },
  {
   "cell_type": "markdown",
   "metadata": {},
   "source": [
    "### Definition von Funktionen\n",
    "Sehr häufig benötigen wir Funktionen - einerseits, um Code wiederverwenden\n",
    "zu können, andererseits um mathematische Funktionen zu beschreiben.\n",
    "Eine Funktion können Sie in Python auf zwei verschiedene Arten definieren: mit `def`\n",
    "für eine \"normale\" Funktion oder mit `lambda` für eine Inline Funktion:\n"
   ]
  },
  {
   "cell_type": "code",
   "execution_count": null,
   "metadata": {},
   "outputs": [],
   "source": [
    "def f(x):\n",
    "    return x**2\n",
    "\n",
    "g = lambda x: x**3"
   ]
  },
  {
   "cell_type": "markdown",
   "metadata": {},
   "source": [
    "Die Funktionen können Sie für eine einzelne Zahl oder für ein ganzes Array von\n",
    "Zahlen aufrufen. Achten Sie darauf, dass Sie die Zelle oben, in der die Funktionen\n",
    "definiert sind, ausgeführt haben!"
   ]
  },
  {
   "cell_type": "code",
   "execution_count": null,
   "metadata": {},
   "outputs": [],
   "source": [
    "# Aufruf für einzelne Werte\n",
    "print(f(2), g(2))\n",
    "\n",
    "# Aufruf für Arrays\n",
    "x = np.array([1, 2, 3])\n",
    "print(f(x), g(x))"
   ]
  },
  {
   "cell_type": "markdown",
   "metadata": {},
   "source": [
    "#### Funktionen mit Parametern\n",
    "Sie können auch mehrere Werte an eine Funktion übergeben:"
   ]
  },
  {
   "cell_type": "code",
   "execution_count": null,
   "metadata": {},
   "outputs": [],
   "source": [
    "def h(x, a, b):\n",
    "    return a*x + b\n",
    "\n",
    "print(h(1, 2, 3))\n",
    "\n",
    "x = np.array([1, 2, 3])\n",
    "a = 3\n",
    "b = 4\n",
    "print(h(x, a, b))"
   ]
  },
  {
   "cell_type": "markdown",
   "metadata": {},
   "source": [
    "#### Verkettete Funktionen\n",
    "Funktionen können natürlich auch andere Funktionen aufrufen:"
   ]
  },
  {
   "cell_type": "code",
   "execution_count": null,
   "metadata": {},
   "outputs": [],
   "source": [
    "def f_h(x):\n",
    "  return f(h(x, 1, 2))\n",
    "\n",
    "print(f_h(1))"
   ]
  },
  {
   "cell_type": "markdown",
   "metadata": {},
   "source": [
    "#### Aufgabe: Quadrat ist kleiner als\n",
    "Schreiben Sie eine Funktion `square_is_less_than`, die zwei Parameter $x$ und $a$\n",
    "hat und den Wert `True` zurückgibt, falls $x^2 < a$, ansonsten den Wert `False`.\n",
    "(True und False sind in Python die Konstanten für Wahr und Falsch). Überprüfen Sie \n",
    "Ihr Ergebnis, indem Sie einige Werte ausgeben."
   ]
  },
  {
   "cell_type": "code",
   "execution_count": null,
   "metadata": {},
   "outputs": [],
   "source": [
    "def square_is_less_than(x, a):\n",
    "    # TODO: Implementiere die Funktion\n",
    "    raise NotImplementedError(\"Hier eigene Lösung einfügen!\")\n",
    "\n",
    "\n",
    "print(\"Erwarte True:\", square_is_less_than(1, 2))\n",
    "print(\"Erwarte False:\", square_is_less_than(2, 2))"
   ]
  },
  {
   "cell_type": "markdown",
   "metadata": {},
   "source": [
    "### Numpy arrays\n",
    "#### Erstellen von arrays und ranges\n",
    "Außer mit einzelnen Werten, können wir auch Arrays mit einer bestimmten Anzahl\n",
    "an Nullen oder Einsen erstellen.\n",
    "\n",
    "Arrays kommen aus dem Paket numpy und sind einfach genial! Sie können mit Arrays\n",
    "fast so arbeiten, wie mit einzelnen Zahlen - die Rechenoperationen werden für\n",
    "jeden Array-Eintrag einzeln ausgeführt."
   ]
  },
  {
   "cell_type": "code",
   "execution_count": null,
   "metadata": {},
   "outputs": [],
   "source": [
    "a1 = np.zeros(5) # Entspricht array([0, 0, 0, 0, 0])\n",
    "a2 = np.ones(5) # Entspricht array([1, 1, 1, 1, 1])\n",
    "print(a1, a2, 2*a1 + 3*a2)\n"
   ]
  },
  {
   "cell_type": "markdown",
   "metadata": {},
   "source": [
    "Oder es kann ein Array erstellt werden, das einen definierten Wertebereich mit einer bestimmten Anzahl an Werten (z. B. np.linspace) oder mit einer definierten Schrittweite (z. B. np.arange) erzeugt."
   ]
  },
  {
   "cell_type": "code",
   "execution_count": null,
   "metadata": {},
   "outputs": [],
   "source": [
    "# Definierter Bereich und Anzahl von Werten\n",
    "a3 = np.linspace(0, 1, 5) # Entspricht array([0, 0.25, 0.5, 0.75, 1])\n",
    "print(\"a3\", a3)\n",
    "print(\"sqrt(a3)\", np.sqrt(a3))\n",
    "\n",
    "# Definierter Bereich und Schrittweite\n",
    "a4 = np.arange(0, 1, 0.25) # Entspricht array([0, 0.25, 0.5, 0.75])\n",
    "print(\"a4\", a4)\n",
    "\n",
    "# Für ganze Zahlen gibt es auch range (Achtung, kein numpy-Array)\n",
    "a5 = range(0, 5) # Enthält 0, 1, 2, 3, 4"
   ]
  },
  {
   "cell_type": "markdown",
   "metadata": {},
   "source": [
    "#### Array Slicing\n",
    "**Array Slicing** ist eine Technik, mit der man Teile eines Arrays extrahieren kann, indem man Start-, End- und Schrittwerte angibt. Dies ist besonders nützlich, um auf Unterbereiche eines Arrays zuzugreifen oder diese zu modifizieren.\n",
    "\n",
    "Die allgemeine Syntax für das Slicing eines Arrays lautet:\n",
    "```python\n",
    "array[start:end:step]\n",
    "```\n",
    "\n",
    "Hierbei ist:\n",
    "* start: Der Index, bei dem das Slicing beginnt (inklusive). Wenn dieser Wert weggelassen wird, beginnt das Slicing bei Index 0.\n",
    "* end: Der Index, bei dem das Slicing endet (exklusive). Das bedeutet, das Element am end-Index wird nicht in das Ergebnis einbezogen.\n",
    "* step: Gibt an, wie viele Elemente übersprungen werden sollen. Wenn dieser Wert nicht angegeben wird, ist der Schrittwert standardmäßig 1."
   ]
  },
  {
   "cell_type": "code",
   "execution_count": null,
   "metadata": {},
   "outputs": [],
   "source": [
    "# Erstellen eines Arrays von 0 bis 9\n",
    "array = np.arange(10)\n",
    "print(\"Original Array:\", array)\n",
    "\n",
    "# Extrahiere die ersten 5 Elemente\n",
    "first_five = array[:5]\n",
    "print(\"Slicing bis zum 5. Element:\", first_five)\n",
    "\n",
    "# Extrahiere die letzten 3 Elemente\n",
    "last_three = array[-3:]\n",
    "print(\"Letzte 3 Elemente:\", last_three)\n",
    "\n",
    "# Extrahiere jedes zweite Element\n",
    "every_second = array[::2]\n",
    "print(\"Jedes zweite Element:\", every_second)\n",
    "\n",
    "# Slicing mit Start- und Endwert\n",
    "sub_array = array[2:7]\n",
    "print(\"Elemente von Index 2 bis 6:\", sub_array)"
   ]
  },
  {
   "cell_type": "markdown",
   "metadata": {},
   "source": [
    "#### Array Indices mit Bedingungen definieren\n",
    "Sie können auch eine Bedingung als Array Index angeben - das Ergebnis sind alle\n",
    "Einträge, für die die Bedingung erfüllt ist."
   ]
  },
  {
   "cell_type": "code",
   "execution_count": null,
   "metadata": {},
   "outputs": [],
   "source": [
    "# Alle Werte größer als 5\n",
    "array = np.arange(10)\n",
    "greater_than_five = array[array > 5]\n",
    "print(\"Werte größer als 5:\", greater_than_five)"
   ]
  },
  {
   "cell_type": "markdown",
   "metadata": {},
   "source": [
    "Wenn Sie mehrere Bedingungen für die Array Indices verknüpfen wollen, können Sie das mit den logischen Operator `&`für \"und\" sowie `|` für \"oder\" machen."
   ]
  },
  {
   "cell_type": "code",
   "execution_count": null,
   "metadata": {},
   "outputs": [],
   "source": [
    "between_3_and_5 = array[(array >= 3) & (array <= 5)]\n",
    "print(\"Werte zwischen 3 und 5:\", between_3_and_5)"
   ]
  },
  {
   "cell_type": "markdown",
   "metadata": {},
   "source": [
    "### Schleifen\n",
    "Mit einer for-Schleife können Sie nacheinander auf alle Elemente in einem Range\n",
    "oder einem Array zugreifen."
   ]
  },
  {
   "cell_type": "code",
   "execution_count": null,
   "metadata": {},
   "outputs": [],
   "source": [
    "# Schleife über einen Range, i nimmt die Werte 0, 1, ..., 9 an\n",
    "# Dies ist quasi die Python-Version einer for Schleife aus Java oder C\n",
    "for i in range(10):\n",
    "    print(i)\n",
    "\n",
    "# Schleife über ein Array\n",
    "a = np.arange(0, 10, 3.5)\n",
    "for i in a:\n",
    "    print(i)\n",
    "  "
   ]
  },
  {
   "cell_type": "markdown",
   "metadata": {},
   "source": [
    "## Plotting mit matplotlib\n",
    "\n",
    "Dieser Abschnitt dient  als Einführung ins Plotten mit matplotlib. Hier sehen Sie ein Beispiel, wie die Funktion $f(x,a,b) = a\\cdot x^2 + b$ geplottet wird. In matplotlib werden zum Plotten Punkte $x$ mit zugehörigen Funktionswerten $y$ benötigt. Es wird zunächst die Funktion definiert, danach werden Werte $x$ definiert, an denen die Funktion ausgewertet werden soll. Die Funktionswerte werden in $y$ gespeichert und dann wird $x$ gegen $y$ geplottet.\n",
    "\n",
    "Führen Sie den Code aus, um die Grafik zu erzeugen."
   ]
  },
  {
   "cell_type": "code",
   "execution_count": null,
   "metadata": {},
   "outputs": [],
   "source": [
    "def f(x, a, b):\n",
    "    \"\"\"Definition der Funktion f(x,a,b)\"\"\"\n",
    "    return a * x * x + b\n",
    "\n",
    "\n",
    "# Definiere x: 100 Werte im Intervall [-2,2)\n",
    "x = np.linspace(-2, 2, 100)\n",
    "\n",
    "# Berechne Funktionswerte y.\n",
    "y = f(x, 2, -3)\n",
    "\n",
    "plt.plot(x, y)  # Plotte x und y (als Linie)\n",
    "\n",
    "# Optional: Titel und Achsenbeschriftungen\n",
    "plt.title('$2 x^2 - 3$')\n",
    "plt.xlabel(\"x\")\n",
    "plt.ylabel(\"y\")"
   ]
  },
  {
   "cell_type": "markdown",
   "metadata": {},
   "source": [
    "### Aufgabe: Plotting\n",
    "Plotten Sie die Funktion $e^{\\sqrt{x}}$ im Bereich $1\\leq x\\leq20$."
   ]
  },
  {
   "cell_type": "code",
   "execution_count": null,
   "metadata": {},
   "outputs": [],
   "source": [
    "# Plotten Sie die Funktion"
   ]
  },
  {
   "cell_type": "markdown",
   "metadata": {},
   "source": [
    "## Abschnittsweise definierte Funktionen\n",
    "In der Mathematik können Funktionen abschnittsweise definiert sein, ein Beispiel \n",
    "ist die Betragsfunktion:\n",
    "$$\n",
    "|x| =\n",
    "\\begin{cases} \n",
    "x, & \\text{wenn } x \\geq 0 \\\\\n",
    "-x, & \\text{wenn } x < 0\n",
    "\\end{cases}\n",
    "$$\n",
    "\n",
    "Wenn wir diese Funktion in Python implementieren wollen, können wir eine if-Bedingung nutzen:"
   ]
  },
  {
   "cell_type": "code",
   "execution_count": null,
   "metadata": {},
   "outputs": [],
   "source": [
    "def abs1(x):\n",
    "  if x < 0:\n",
    "    return -x\n",
    "  else:\n",
    "    return x\n",
    "  \n",
    "print(abs1(1), abs1(-1))"
   ]
  },
  {
   "cell_type": "markdown",
   "metadata": {},
   "source": [
    "Allerdings können Sie die Funktion nicht wie oben gezeigt plotten, \n",
    "da Sie die Funktion nicht für ein Array auswerten können. Grund: der Vergleich eines Arrays mit einer Zahl liefert ein Array aus True-False-Werten zurück, die Sie aber nicht in einer if-Bedingung auswerten können.\n",
    "\n",
    "Zum Plotten können Sie entweder die Funktion in einer Schleife für jeden Wert einzeln auswerten:"
   ]
  },
  {
   "cell_type": "code",
   "execution_count": null,
   "metadata": {},
   "outputs": [],
   "source": [
    "x = np.linspace(-2, 2, 100)\n",
    "y = np.zeros(100)\n",
    "for i in range(100):\n",
    "    y[i] = abs1(x[i])\n",
    "\n",
    "plt.plot(x, y)"
   ]
  },
  {
   "cell_type": "markdown",
   "metadata": {},
   "source": [
    "Oder, Sie definieren die Funktion so, dass sie für Arrays funktioniert:"
   ]
  },
  {
   "cell_type": "code",
   "execution_count": null,
   "metadata": {},
   "outputs": [],
   "source": [
    "def abs2(x):\n",
    "  result = np.zeros_like(x) # Um x nicht zu verändern, array mit gleicher Größe erstellen\n",
    "  result[x < 0] = -x[x < 0] # Alle Indexe, die kleiner 0 sind, negieren\n",
    "  result[x >= 0] = x[x >= 0] # Alle Indexe, die größer oder gleich 0 sind, belassen\n",
    "  return result\n",
    "\n",
    "# Ganz normal plotten\n",
    "x = np.linspace(-2, 2, 11)\n",
    "y = abs2(x)\n",
    "print(x, y)\n",
    "plt.plot(x, y)"
   ]
  },
  {
   "cell_type": "markdown",
   "metadata": {},
   "source": [
    "### Aufgabe: Trapezfunktion\n",
    "\n",
    "Betrachten Sie die folgende Funktionstefinition der Funktion $t(x)$:\n",
    "$$\n",
    "t(x) =\n",
    "\\begin{cases} \n",
    "0, & \\text{wenn } x < 0 \\\\\n",
    "x, & \\text{wenn } 0 \\leq x < 1 \\\\\n",
    "1, & \\text{wenn } x \\geq 1\n",
    "\\end{cases}\n",
    "$$\n",
    "\n",
    "Definieren Sie die Funktion t(x) und erstellen Sie einen Plot im Bereich -2 bis 2."
   ]
  },
  {
   "cell_type": "code",
   "execution_count": null,
   "metadata": {},
   "outputs": [],
   "source": [
    "def t(x):\n",
    "  # TODO: Implementieren Sie die Funktion\n",
    "  return x\n",
    "\n",
    "# TODO: plotten Sie die Funktion"
   ]
  },
  {
   "cell_type": "markdown",
   "metadata": {},
   "source": [
    "## Lösen von Gleichungen\n",
    "Das Lösen einer Gleichung $f(x)=g(x)$ lässt sich immmer umstellen zu $h(x)=0$ mit $h(x)=f(x)-g(x)$, das heißt es müssen die Nullstellen der Funktion $h(x)$ bestimmt werden.\n",
    "\n",
    "Nullstellen können in der Regel numerisch bestimmt werden, wenn die ungefähre Lage einer Nullstelle bekannt ist. Das allgemeine Vorgehen ist daher:\n",
    "1. Erstelle einen Plot der Funktionen $f(x)$ und $g(x)$ und bestimme aus dem Plot die **Anzahl der Nullstellen** und deren **ungefähre Lage**.\n",
    "2. Wähle für jede Nullstelle einen Wert in der Nähe aus und führe eine numerische Nullstellensuche durch.\n",
    "\n",
    "In Python kann die Nullstellensuche für einen oder mehrere Anfangswerte mit der Funktion `optimize.fsolve` durchgeführt werden.\n",
    "\n",
    "### Beispiel ###\n",
    "Wir lösen die Gleichung $x^2-2 = xe^{-x^2}$ numerisch. Zunächst plotten wir dazu die rechte und linke Seite. Einen sinnvollen Bereich für den Plot zu finden kann manchmal schon eine eigene Schwierigkeit sein."
   ]
  },
  {
   "cell_type": "code",
   "execution_count": 5,
   "metadata": {},
   "outputs": [
    {
     "data": {
      "text/plain": [
       "<matplotlib.legend.Legend at 0x11043cd10>"
      ]
     },
     "execution_count": 5,
     "metadata": {},
     "output_type": "execute_result"
    },
    {
     "data": {
      "image/png": "[encoded data removed]",
      "text/plain": [
       "<Figure size 640x480 with 1 Axes>"
      ]
     },
     "metadata": {},
     "output_type": "display_data"
    }
   ],
   "source": [
    "f = lambda x: x**2-2\n",
    "g = lambda x: x*np.exp(-(x**2))\n",
    "\n",
    "x = np.linspace(-2.5, 2.5, 100)\n",
    "plt.plot(x, f(x), label='$f(x) = x^2-2$')\n",
    "plt.plot(x, g(x), label=\"$g(x) = e^{-x^2} + ln(x)$\")\n",
    "plt.legend()"
   ]
  },
  {
   "cell_type": "markdown",
   "metadata": {},
   "source": [
    "Dem Plot können wir entnehmen, dass es zwei Schnittpunkte gibt, die ungefähr bei $-1$ und $+1$ liegen. Damit können wir eine Nullstellensuche starten."
   ]
  },
  {
   "cell_type": "code",
   "execution_count": 6,
   "metadata": {},
   "outputs": [
    {
     "data": {
      "text/plain": [
       "array([-1.33193225,  1.47254921])"
      ]
     },
     "execution_count": 6,
     "metadata": {},
     "output_type": "execute_result"
    }
   ],
   "source": [
    "h = lambda x: f(x) - g(x)\n",
    "scipy.optimize.fsolve(h, [-1,1])\n"
   ]
  },
  {
   "cell_type": "markdown",
   "metadata": {},
   "source": [
    "Die Lösungen der Gleichung sind also $x_1=-1.3319$ und $x_2=1.4725$.\n",
    "\n",
    "### Aufgabe\n",
    "Lösen Sie die Gleichungen:\n",
    "1. $x^4-4x^2+x = 3x^3-2x^2-x+1$ (Hinweis: 2 Lösungen)\n",
    "2. $ln(x)+2=\\sqrt{x^3}$ (Hinweis: 1 Lösung)"
   ]
  },
  {
   "cell_type": "code",
   "execution_count": null,
   "metadata": {},
   "outputs": [],
   "source": [
    "# TODO: Finden Sie die Lösungen der Gleichung f(x) = g(x) mit fsolve"
   ]
  },
  {
   "cell_type": "markdown",
   "metadata": {},
   "source": [
    "## SymPy — symbolische Mathematik in Python\n",
    "\n",
    "**SymPy** (Symbolic Python) ist eine Python-Bibliothek, die Funktionen eines Computer-Algebra-Systems (CAS) bietet. Im Gegensatz zu NumPy, das *numerische Berechnungen* mit Gleitkommazahlen durchführt, arbeitet SymPy mit *symbolischen Ausdrücken*. Das bedeutet, Variablen wie x oder y bleiben Symbole, und Ausdrücke werden algebraisch manipuliert, vereinfacht, abgeleitet oder integriert, wobei exakte (analytische) Ergebnisse geliefert werden."
   ]
  },
  {
   "cell_type": "markdown",
   "metadata": {},
   "source": [
    "### Setup und Symboldefinition\n",
    "\n",
    "Um SymPy in einem Jupyter Notebook optimal nutzen zu können, importieren wir die Bibliothek und aktivieren die LaTeX-Ausgabe mit `init_printing()`, damit mathematische Formeln schön dargestellt werden.\n",
    "\n",
    "Anschließend müssen wir alle Variablen, die wir symbolisch verwenden möchten, explizit mit der Funktion `symbols()` definieren."
   ]
  },
  {
   "cell_type": "code",
   "execution_count": null,
   "metadata": {},
   "outputs": [],
   "source": [
    "# SymPy importieren und LaTeX-Ausgabe im Notebook aktivieren\n",
    "import sympy as sp\n",
    "\n",
    "sp.init_printing()\n",
    "\n",
    "# Symbolische Variablen definieren\n",
    "x, y, z = sp.symbols(\"x y z\")\n",
    "a, b = sp.symbols(\"a b\")\n",
    "\n",
    "# Beispiel: Ausgabe des Symbols\n",
    "x"
   ]
  },
  {
   "cell_type": "markdown",
   "metadata": {},
   "source": [
    "### 2. Algebraische Operationen\n",
    "\n",
    "SymPy kann algebraische Ausdrücke erstellen, vereinfachen und umformen.\n",
    "\n",
    "Um beispielsweise einen Term wie $(a+b)^3$ auszuschreiben, verwenden Sie die Funktion `expand()`."
   ]
  },
  {
   "cell_type": "code",
   "execution_count": null,
   "metadata": {},
   "outputs": [],
   "source": [
    "# Einen Ausdruck erstellen.\n",
    "# Da a und b oben als Symbole definiert wurden, kann SymPy daraus einen symbolischen\n",
    "# Ausdruck machen.\n",
    "expr = (a + b) ** 3\n",
    "\n",
    "# Ausdruck anzeigen\n",
    "display(expr)\n",
    "\n",
    "# Ausdruck ausmultiplizieren\n",
    "sp.expand(expr)"
   ]
  },
  {
   "cell_type": "markdown",
   "metadata": {},
   "source": [
    "Erinnerung: die letzte Zeile eines Code-Blocks wird im Jupyter-Notebook automatisch ausgegeben, daher wurde hier auf das explizite display verzichtet.\n",
    "\n",
    "Die Funktion `simplify()` versucht, einen Ausdruck so weit wie möglich zu vereinfachen."
   ]
  },
  {
   "cell_type": "code",
   "execution_count": null,
   "metadata": {},
   "outputs": [],
   "source": [
    "# Erstellen eines komplizierteren Ausdrucks\n",
    "expr_2 = sp.sin(x) ** 2 + sp.cos(x) ** 2 + 2 * x\n",
    "\n",
    "# Ausdruck vereinfachen\n",
    "sp.simplify(expr_2)"
   ]
  },
  {
   "cell_type": "markdown",
   "metadata": {},
   "source": [
    "### Algebraische Gleichungen lösen\n",
    "Mit `solve()` können Sie algebraische Gleichungen analytisch lösen. Die Funktion erwartet einen Ausdruck, der gleich Null gesetzt wird, und die Variable, nach der gelöst werden soll. Alternativ kann man die Gleichung explizit mit `Eq()` definieren."
   ]
  },
  {
   "cell_type": "code",
   "execution_count": null,
   "metadata": {},
   "outputs": [],
   "source": [
    "# Die quadratische Gleichung x^2 - 4 = 0 lösen\n",
    "x = sp.symbols('x')\n",
    "loesungen_1 = sp.solve(x**2 - 4, x)\n",
    "display(loesungen_1)\n",
    "\n",
    "# Die allgemeine quadratische Gleichung ax^2 + bx + c = 0 lösen\n",
    "# Zuerst Gleichung definieren\n",
    "x, a, b, c = sp.symbols('x a b c')\n",
    "gleichung = sp.Eq(a * x**2 + b * x + c, 0)\n",
    "\n",
    "# Nach x auflösen\n",
    "loesungen_2 = sp.solve(gleichung, x)\n",
    "display(loesungen_2)"
   ]
  },
  {
   "cell_type": "markdown",
   "metadata": {},
   "source": [
    "### SymPy: Übungen\n",
    "\n",
    "1. Definieren Sie zwei neue Symbole $t$ und $k$\n",
    "1. Vereinfachen Sie den Ausdruck $\\frac{t^2-1}{t-1}$\n",
    "1. Lösen Sie die Gleichung $\\frac 1t = k^2 \\cdot t$ nach der Variablen $t$. "
   ]
  },
  {
   "cell_type": "code",
   "execution_count": null,
   "metadata": {},
   "outputs": [],
   "source": [
    "# Platz für Ihre Lösungen"
   ]
  },
  {
   "cell_type": "markdown",
   "metadata": {},
   "source": [
    "SymPy kann noch viel mehr als hier vorgestellt wurde, insbesondere Integrieren und Differenzieren. Entsprechende Übungen finden Sie nach der Behandlung der Themen in der Vorlesung in einem separaten Jupyter Notebook."
   ]
  }
 ],
 "metadata": {
  "kernelspec": {
   "display_name": ".venv",
   "language": "python",
   "name": "python3"
  },
  "language_info": {
   "codemirror_mode": {
    "name": "ipython",
    "version": 3
   },
   "file_extension": ".py",
   "mimetype": "text/x-python",
   "name": "python",
   "nbconvert_exporter": "python",
   "pygments_lexer": "ipython3",
   "version": "3.12.11"
  }
 },
 "nbformat": 4,
 "nbformat_minor": 2
}
