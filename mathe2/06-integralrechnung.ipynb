{
 "cells": [
  {
   "cell_type": "markdown",
   "metadata": {},
   "source": [
    "# Integralrechnung\n",
    "\n",
    "\n",
    "## Imports\n",
    "\n",
    "Führen Sie zunächst den folgenden Code aus, um die relevanten Bibliotheken einzubinden."
   ]
  },
  {
   "cell_type": "code",
   "execution_count": 1,
   "metadata": {},
   "outputs": [],
   "source": [
    "from pylab import *\n",
    "from scipy import *\n",
    "from numpy import *\n",
    "from scipy.optimize import newton"
   ]
  },
  {
   "cell_type": "markdown",
   "metadata": {},
   "source": [
    "## Integrale als Summe"
   ]
  },
  {
   "cell_type": "markdown",
   "metadata": {},
   "source": [
    "Das bestimmte Integral einer Funktion  kann durch eine Summe von Rechtecken angenähert werden: $\\int_a^b f(x) dx\\approx \\sum_{i=1}^n f(x_i)\\cdot dx$, wobei $dx = (b-a)/n$ die Breite der Rechtecke und $x_i = a + i\\cdot dx$ der linke Rand des i-ten Rechtecks ist.\n",
    "Schreiben Sie eine Funktion `integral`, die das bestimmte Integral einer Funktion $f$ bei gegebenem $a$, $b$ und $n$ berechnet."
   ]
  },
  {
   "cell_type": "code",
   "execution_count": 3,
   "metadata": {},
   "outputs": [],
   "source": [
    "def integral(f, a, b, n_steps):\n",
    "    # TODO\n",
    "    return 0"
   ]
  },
  {
   "cell_type": "markdown",
   "metadata": {},
   "source": [
    "Testen Sie Ihre Funktion mit dem folgenden Code, der das numerische berechnete Integral mit dem exakten Wert vergleicht. Variieren Sie die Anzahl an Intervallen $n$. Ab welcher Intervallzahl $n$ erhalten Sie ein brauchbares Ergebnis?"
   ]
  },
  {
   "cell_type": "code",
   "execution_count": 7,
   "metadata": {},
   "outputs": [
    {
     "name": "stdout",
     "output_type": "stream",
     "text": [
      "Exaktes Integral: 0.25\n",
      "Numerisch berechnet: 0.25002500250025006\n"
     ]
    }
   ],
   "source": [
    "f = lambda x: x**3  # Die zu integrierende Funktion f\n",
    "F = lambda x: 1 / 4 * x**4  # Eine Stammfunktion von f\n",
    "\n",
    "# Anzahl an Schritten:\n",
    "n = 100\n",
    "\n",
    "# Integrationsgrenzen\n",
    "a = 0\n",
    "b = 1\n",
    "\n",
    "# Ausgabe\n",
    "print(\"Exaktes Integral:\", F(b) - F(a))\n",
    "print(\"Numerisch berechnet:\", integral(f, a, b, n))"
   ]
  },
  {
   "cell_type": "markdown",
   "metadata": {},
   "source": [
    "### Berechnung von $\\pi$"
   ]
  },
  {
   "cell_type": "markdown",
   "metadata": {},
   "source": [
    "Der Rand eines Kreises mit Radius $1$ ist beschrieben durch die Menge an Punkten $(x,y)$, für die gilt $x^2 + y^2 = 1$. Im rechten oberen Quadrant kann die Formel eindeutig nach $y$ aufgelöst werden: $y=\\sqrt{1-x^2}$. Damit kann die Fläche des rechten oberen Quadranten berechnet werden als $\\int_0^1 \\sqrt{1-x^2}dx$.\n",
    "\n",
    "Die Fläche eines Kreises mit Radius $1$ ist $\\pi$, die Fläche des rechten oberen Quadranten ist ein Viertel der Kreisfläche: $\\frac 14 \\pi$. Damit kann $\\pi$ über die numerische Integration berechnet werden: $\\pi = \\int_0^1 4\\sqrt{1-x^2} dx$.\n",
    "\n",
    "Nutzen Sie diese Formel, um durch numerische Integration eine gute Näherung für $\\pi$ zu berechnen. \n",
    "\n",
    "Plotten Sie die Differenz zwischen dem berechneten Wert und dem tatsächlichen Wert von $pi$ als Funktion der Anzahl an Schritten."
   ]
  },
  {
   "cell_type": "code",
   "execution_count": 11,
   "metadata": {},
   "outputs": [
    {
     "data": {
      "text/plain": [
       "3.1414773182871603"
      ]
     },
     "execution_count": 11,
     "metadata": {},
     "output_type": "execute_result"
    }
   ],
   "source": [
    "# Funktion um pi als Funktion der Schrittanzahl zu berechnen.\n",
    "def compute_pi(n_steps):\n",
    "    # TODO\n",
    "    return 3  # exakt genug?\n",
    "\n",
    "\n",
    "# TODO: plotte die Differenz pi - compute_pi(n) als Funktion von n"
   ]
  },
  {
   "cell_type": "markdown",
   "metadata": {},
   "source": [
    "## Anwendungsaufgabe"
   ]
  },
  {
   "attachments": {
    "image.png": {
     "image/png": "[encoded data removed]"
    }
   },
   "cell_type": "markdown",
   "metadata": {},
   "source": [
    "### Blutdruck-Medikament\n",
    "Durch die Einnahme eines Medikaments zur Regulierung des Blutdrucks gelangen Wirkstoffe ins Blut. Die Wirkstoffmenge im Blut kann näherungsweise durch eine Funktion m beschrieben werden, deren 1. Ableitung bekannt ist:  \n",
    "$m'(t)= 1,2\\cdot e^{-0,04t}  - 0,1$ mit $t \\geq 0$  \n",
    "$t$: Zeit in min  \n",
    "$m'(t)$:  momentane Änderungsrate der Wirkstoffmenge im Blut zur Zeit t in mg/min\n",
    "\n",
    "Zum Zeitpunkt $t = 0$ beträgt die Wirkstoffmenge im Blut 10 mg.\n",
    "1. Erstellen Sie eine Gleichung der Funktion m.\n",
    "2. Berechnen Sie, nach welcher Zeit der Wirkstoff vollständig abgebaut ist.\n",
    "Anmerkung: Die Lösung der entsprechenden Gleichung kann nur näherungsweise berechnet werden, nutzen Sie hierfür bspw. das Newton-Verfahren.\n",
    "\n",
    "Quelle dieser Aufgabe: [![image.png](attachment:image.png)](https://mathematikmachtfreunde.univie.ac.at/) (Datenquelle: Bundesministerium für Bildung, Wissenschaft und Forschung, Lizenz Creative Commons BY 4.0)"
   ]
  },
  {
   "cell_type": "code",
   "execution_count": null,
   "metadata": {},
   "outputs": [],
   "source": [
    "# TODO"
   ]
  },
  {
   "cell_type": "markdown",
   "metadata": {},
   "source": [
    "## Quadraturformeln"
   ]
  },
  {
   "cell_type": "markdown",
   "metadata": {},
   "source": [
    "Betrachten Sie die Funktion $f(x)=e^{-x^2/5}\\cdot (x^4-5x^2)$ und berechnen Sie den Wert des Integrals $\\int_{0}^8 f(x) dx$. Im folgenden Code-Abschnitt ist die Funktion definiert. Führen Sie den Code-Abschnitt aus, um einen Plot der Funktion zu sehen."
   ]
  },
  {
   "cell_type": "code",
   "execution_count": null,
   "metadata": {},
   "outputs": [],
   "source": [
    "f = lambda x: ( x**4 -5 * x**2) * exp(-0.2 * x**2)\n",
    "a = 0\n",
    "b = 8\n",
    "\n",
    "x = linspace(a, b, 1000)\n",
    "plot(x, f(x))\n",
    "xlim(a, b)"
   ]
  },
  {
   "cell_type": "markdown",
   "metadata": {},
   "source": [
    "Eine exakte Integration ist nicht möglich. \n",
    "\n",
    "Implementieren Sie drei Funktionen, um die das Integral numerisch zu berechnen: Sie nehmen  den linken Funktionswert und nähern die Fläche durch ein Rechteck, die Annäherung durch eine lineare Funktion und die 3-Punkt-Simpson-Formel. Vergleichen Sie die Ergebnisse für eine Unterschiedliche Anzahl an Integrationsintervallen n.\n",
    "\n",
    "Zum Vergleich wird die numerische Integration mit scipy.integrate.quad genutzt, die eine numerische Integration bereitstellt. Ab welchem n weicht der von Ihnen berechnete Wert weniger als $10^{-5}$ vom tatsächlichen Wert ab?"
   ]
  },
  {
   "cell_type": "code",
   "execution_count": 39,
   "metadata": {},
   "outputs": [
    {
     "name": "stdout",
     "output_type": "stream",
     "text": [
      "Exakter Wert: 0.6931471805599453\n",
      "Rechtecke:  0 -0.6931471805599453\n",
      "Lineare Funktion: 0 -0.6931471805599453\n",
      "Simpson-Regel: 0 -0.6931471805599453\n"
     ]
    }
   ],
   "source": [
    "# Integral über Rechtecke\n",
    "def integral_box(f, a, b, n):\n",
    "    # TODO\n",
    "    return 0\n",
    "\n",
    "\n",
    "# Integral mit linearer Näherung\n",
    "def integral_linear(f, a, b, n):\n",
    "    # TODO\n",
    "    return 0\n",
    "\n",
    "\n",
    "# Integral mit 3-Punkt-Simpson Regel\n",
    "def integral_simpson(f, a, b, n):\n",
    "    # TODO\n",
    "    return 0\n",
    "\n",
    "\n",
    "# Parameter definieren\n",
    "n = 10\n",
    "f = lambda x: 1 / x\n",
    "F = lambda x: log(x)\n",
    "a = 2\n",
    "b = 4\n",
    "\n",
    "# Ergebnisse berechnen und ausgeben\n",
    "exact = integrate.quad(f, a, b)[0]\n",
    "print(\"Exakter Wert:\", exact)\n",
    "print(\"Rechtecke: \", integral_box(f, a, b, n), integral_box(f, a, b, n) - exact)\n",
    "print(\n",
    "    \"Lineare Funktion:\",\n",
    "    integral_linear(f, a, b, n),\n",
    "    integral_linear(f, a, b, n) - exact,\n",
    ")\n",
    "print(\n",
    "    \"Simpson-Regel:\", integral_simpson(f, a, b, n), integral_simpson(f, a, b, n) - exact\n",
    ")"
   ]
  }
 ],
 "metadata": {
  "kernelspec": {
   "display_name": "Python 3",
   "language": "python",
   "name": "python3"
  },
  "language_info": {
   "codemirror_mode": {
    "name": "ipython",
    "version": 3
   },
   "file_extension": ".py",
   "mimetype": "text/x-python",
   "name": "python",
   "nbconvert_exporter": "python",
   "pygments_lexer": "ipython3",
   "version": "3.11.9"
  }
 },
 "nbformat": 4,
 "nbformat_minor": 2
}
