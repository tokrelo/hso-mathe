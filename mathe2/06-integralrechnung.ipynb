{
 "cells": [
  {
   "cell_type": "markdown",
   "metadata": {},
   "source": [
    "# Integralrechnung\n",
    "\n",
    "## Lernziele\n",
    "- Sie könnten unbestimmte Integrale (also Stammfunktionen) mit SymPy berechnen.\n",
    "- Sie können bestimmte Integrale numerisch als Riemann-Summe berechnen.\n",
    "- Sie können bestimmte Integrale mit Hilfe von Quadraturformeln berechnen.\n",
    "- Sie können numerische Integration nutzen, um Anwendungsprobleme zu lösen.\n",
    "\n",
    "## Imports\n",
    "\n",
    "Führen Sie zunächst den folgenden Code aus, um die relevanten Bibliotheken einzubinden."
   ]
  },
  {
   "cell_type": "code",
   "execution_count": null,
   "metadata": {},
   "outputs": [],
   "source": [
    "import numpy as np\n",
    "import matplotlib.pyplot as plt\n",
    "import scipy\n",
    "from sympy import symbols, integrate, sin, cos, exp, init_printing"
   ]
  },
  {
   "cell_type": "markdown",
   "metadata": {},
   "source": [
    "## Sybmolische Integration - unbestimmte Integrale\n",
    "---\n",
    "Wie Sie wissen, ist die Berechnung von Integralen im allgemeinen sehr schwierig. Im Gegensatz zur Berechnung von Ableitungen gibt es kein festes Schema, nach dem Sie vorgehen können. Daher ist es oft hilfreich, stattdessen auf Computer-Algebra-Systeme (CAS) zurückzugreifen, die Ihnen Integrale berechnen können.\n",
    "\n",
    "In Python ist das am häufigsten verwendete CAS die Bibliothek SymPy. SymPy ist eine Python-Bibliothek für symbolische Mathematik. Im Gegensatz zu numerischen Bibliotheken wie NumPy oder SciPy, die mit konkreten Zahlen arbeiten, erlaubt SymPy das Rechnen mit mathematischen Ausdrücken in symbolischer Form – ähnlich wie man es auf Papier tun würde. Das bedeutet, man kann mit Variablen arbeiten, Ableitungen und Integrale exakt berechnen, Gleichungen lösen oder Terme vereinfachen. Für die Arbeit mit Integralen bietet SymPy eine einfache Möglichkeit, sowohl unbestimmte als auch bestimmte Integrale analytisch zu bestimmen. Dabei bleiben Ausdrücke wie ∫sin⁡(x) dx∫sin(x)dx exakt und werden nicht auf Näherungswerte reduziert.\n",
    "\n",
    "Die Verwendung von SymPy beginnt typischerweise mit dem Import der Bibliothek und der Definition symbolischer Variablen, z. B. mit `x = symbols('x')`. Anschließend kann man mathematische Ausdrücke wie `sin(x)**2 + cos(x)**2` direkt eingeben und mit Funktionen wie `simplify, expand, diff` (für Ableitungen) oder `integrate` (für Integrale) weiterverarbeiten. SymPy bietet außerdem Werkzeuge zur Lösung von Gleichungen (`solve`), zur Umformung in verschiedene Darstellungen (z. B. Brüche, Wurzeln, Potenzen) und zur Darstellung mathematischer Ausdrücke in lesbarer Form – auch als LaTeX-Ausgabe.\n",
    "\n",
    "Als ein erstes Beispiel berechnen wir symbolisch das Integral $\\int x sin(x) dx$."
   ]
  },
  {
   "cell_type": "code",
   "execution_count": null,
   "metadata": {},
   "outputs": [
    {
     "name": "stdout",
     "output_type": "stream",
     "text": [
      "Eine Stammfunktion von x*sin(x) ist: x*exp(x)*sin(x)/2 - x*exp(x)*cos(x)/2 + exp(x)*cos(x)/2\n"
     ]
    }
   ],
   "source": [
    "x = symbols('x')\n",
    "f = x*sin(x)\n",
    "symbolic_integral = integrate(f, x)\n",
    "init_printing(use_unicode=True)\n",
    "print(\"Eine Stammfunktion von x*sin(x) ist:\", symbolic_integral)\n"
   ]
  },
  {
   "cell_type": "markdown",
   "metadata": {},
   "source": [
    "Sie können selbstverständlich das unbestimmte Integral auch nutzen, um das bestimmte Integral zu berechnen."
   ]
  },
  {
   "cell_type": "code",
   "execution_count": 23,
   "metadata": {},
   "outputs": [
    {
     "name": "stdout",
     "output_type": "stream",
     "text": [
      "Das Integral von x*sin(x) von 0 bis 2*pi ist: -6.28318530717959\n"
     ]
    }
   ],
   "source": [
    "a = 0\n",
    "b = 2*np.pi\n",
    "integral = integrate(f, (x, a, b))\n",
    "print(\"Das Integral von x*sin(x) von 0 bis 2*pi ist:\", integral)"
   ]
  },
  {
   "cell_type": "markdown",
   "metadata": {},
   "source": [
    "### Übungsaufgabe: Symbolische Integration\n",
    "\n",
    "Berechnen Sie mit Hilfe von SymPy das unbestimmte Integral der Funktion $f(x) = e^{2x} \\cdot \\cos(x)$, bei der Sie vermutlich wenig Motivation hätten, das Integral händisch zu bestimmen (obwohl das auch möglich wäre).\n",
    "\n",
    "1. Definieren Sie die Funktion $f(x)$ symbolisch in Python.\n",
    "2. Berechnen Sie das unbestimmte Integral $\\int f(x)\\,dx$ mit SymPy.\n",
    "3. Geben Sie das Ergebnis in einer möglichst einfachen Form aus.\n",
    "4. Berechnen Sie $\\int_0^10 f(x)dx$.\n",
    "\n",
    "*Hinweis:* Nutzen Sie die bereits importierten Funktionen und Variablen aus SymPy."
   ]
  },
  {
   "cell_type": "code",
   "execution_count": null,
   "metadata": {},
   "outputs": [
    {
     "name": "stdout",
     "output_type": "stream",
     "text": [
      "exp(2*x)*sin(x)/5 + 2*exp(2*x)*cos(x)/5\n",
      "Das unbestimmte Integral von e^{2x} * cos(x) ist:\n"
     ]
    }
   ],
   "source": [
    "# 1. Funktion symbolisch definieren\n",
    "f_ex = exp(2*x) * cos(x)\n",
    "\n",
    "# 2. Unbestimmtes Integral berechnen\n",
    "\n",
    "\n",
    "# 3. Ergebnis ausgeben\n",
    "print(\"Das unbestimmte Integral von e^{2x} * cos(x) ist:\")\n",
    "\n",
    "# 4. Bestimmtes Integral berechnen und ausgeben"
   ]
  },
  {
   "cell_type": "markdown",
   "metadata": {},
   "source": [
    "## Numerische Integration\n",
    "---\n",
    "In der Praxis ist oft die Bestimmung einer Stammfunktion nicht möglich (weil beispielsweise die Funktion gar nicht analytisch bekannt ist) oder nicht nötig. Dann wird das bestimmte Integral numerisch berechnet. Die einfachst Form kennen Sie schon aus der Definition des Integrals über Riemann-Summen: das Integral wird als Summe über Rechtecke angenähert.\n",
    "\n",
    "### Integrale als Riemann-Summe"
   ]
  },
  {
   "cell_type": "markdown",
   "metadata": {},
   "source": [
    "Das bestimmte Integral einer Funktion  kann durch eine Summe von Rechtecken angenähert werden: $\\int_a^b f(x) dx\\approx \\sum_{i=1}^n f(x_i)\\cdot dx$, wobei $dx = (b-a)/n$ die Breite der Rechtecke und $x_i = a + i\\cdot dx$ der linke Rand des i-ten Rechtecks ist.\n",
    "Schreiben Sie eine Funktion `integral`, die das bestimmte Integral einer Funktion $f$ bei gegebenem $a$, $b$ und $n$ berechnet."
   ]
  },
  {
   "cell_type": "code",
   "execution_count": 8,
   "metadata": {},
   "outputs": [],
   "source": [
    "def integral(f, a, b, n_steps):\n",
    "    # TODO\n",
    "    return 0"
   ]
  },
  {
   "cell_type": "markdown",
   "metadata": {},
   "source": [
    "Testen Sie Ihre Funktion mit dem folgenden Code, der das numerische berechnete Integral mit dem exakten Wert vergleicht. Variieren Sie die Anzahl an Intervallen $n$. Ab welcher Intervallzahl $n$ erhalten Sie ein brauchbares Ergebnis?"
   ]
  },
  {
   "cell_type": "code",
   "execution_count": 9,
   "metadata": {},
   "outputs": [
    {
     "name": "stdout",
     "output_type": "stream",
     "text": [
      "Exaktes Integral: 0.25\n",
      "Numerisch berechnet: 0\n"
     ]
    }
   ],
   "source": [
    "f = lambda x: x**3  # Die zu integrierende Funktion f\n",
    "F = lambda x: 1 / 4 * x**4  # Eine Stammfunktion von f\n",
    "\n",
    "# Anzahl an Schritten:\n",
    "n = 100\n",
    "\n",
    "# Integrationsgrenzen\n",
    "a = 0\n",
    "b = 1\n",
    "\n",
    "# Ausgabe\n",
    "print(\"Exaktes Integral:\", F(b) - F(a))\n",
    "print(\"Numerisch berechnet:\", integral(f, a, b, n))"
   ]
  },
  {
   "cell_type": "markdown",
   "metadata": {},
   "source": [
    "### Berechnung von $\\pi$"
   ]
  },
  {
   "cell_type": "markdown",
   "metadata": {},
   "source": [
    "Der Rand eines Kreises mit Radius $1$ ist beschrieben durch die Menge an Punkten $(x,y)$, für die gilt $x^2 + y^2 = 1$. Im rechten oberen Quadrant kann die Formel eindeutig nach $y$ aufgelöst werden: $y=\\sqrt{1-x^2}$. Damit kann die Fläche des rechten oberen Quadranten berechnet werden als $\\int_0^1 \\sqrt{1-x^2}dx$.\n",
    "\n",
    "Die Fläche eines Kreises mit Radius $1$ ist $\\pi$, die Fläche des rechten oberen Quadranten ist ein Viertel der Kreisfläche: $\\frac 14 \\pi$. Damit kann $\\pi$ über die numerische Integration berechnet werden: $\\pi = \\int_0^1 4\\sqrt{1-x^2} dx$.\n",
    "\n",
    "Nutzen Sie diese Formel, um durch numerische Integration eine gute Näherung für $\\pi$ zu berechnen. \n",
    "\n",
    "Plotten Sie die Differenz zwischen dem berechneten Wert und dem tatsächlichen Wert von $pi$ als Funktion der Anzahl an Schritten."
   ]
  },
  {
   "cell_type": "code",
   "execution_count": 10,
   "metadata": {},
   "outputs": [],
   "source": [
    "# Funktion um pi als Funktion der Schrittanzahl zu berechnen.\n",
    "def compute_pi(n_steps):\n",
    "    # TODO\n",
    "    return 3  # exakt genug?\n",
    "\n",
    "\n",
    "# TODO: plotte die Differenz pi - compute_pi(n) als Funktion von n"
   ]
  },
  {
   "cell_type": "markdown",
   "metadata": {},
   "source": [
    "### Numerische Integration - Quadraturformeln\n",
    "Genauere Ergebnisse als die Riemann-Summen liefert die Annäherung durch eine lineare Funktion oder - noch besser - die 3-Punkt-Simpson-Formel. Implementieren sie hier die drei Formeln:"
   ]
  },
  {
   "cell_type": "code",
   "execution_count": 11,
   "metadata": {},
   "outputs": [],
   "source": [
    "# Integral über Rechtecke\n",
    "def integral_box(f, a, b, n):\n",
    "    # TODO\n",
    "    return 0\n",
    "\n",
    "\n",
    "# Integral mit linearer Näherung\n",
    "def integral_linear(f, a, b, n):\n",
    "    # TODO\n",
    "    return 0\n",
    "\n",
    "\n",
    "# Integral mit 3-Punkt-Simpson Regel\n",
    "def integral_simpson(f, a, b, n):\n",
    "    # TODO\n",
    "    return 0\n",
    "\n"
   ]
  },
  {
   "cell_type": "markdown",
   "metadata": {},
   "source": [
    "Betrachten Sie für diese Aufgabe die Funktion $f(x)=e^{-x^2/5}\\cdot (x^4-5x^2)$. Diese Funktion kann nicht analytisch integriert werden, das heißt Sie können keine Kombination der Grundfunktionen finden, die dieses Integral berechnet. Aber numerisch kann das bestimmte Integral selbstverständlich ausgerechnet werden.\n",
    "\n",
    "Nutzen Sie die drei im vorhergehenden Abschnitt definierten Integrationsverfahren, um  das Integral $\\int_{-4}^8 f(x) dx$ zu berechnen. Vergleichen Sie die Ergebnisse für eine unterschiedliche Anzahl an Integrationsstellen."
   ]
  },
  {
   "cell_type": "code",
   "execution_count": 12,
   "metadata": {},
   "outputs": [
    {
     "name": "stdout",
     "output_type": "stream",
     "text": [
      "Verlgeich der Näherungenfür n = 10\n",
      "Exakte Lösung: 17.084768233757988\n",
      "Rechteckregel: 0 Fehler: 17.084768233757988\n",
      "Lineare Näherung: 0 Fehler: 17.084768233757988\n",
      "Simpson-Regel: 0 Fehler: 17.084768233757988\n"
     ]
    },
    {
     "data": {
      "image/png": "[encoded data removed]",
      "text/plain": [
       "<Figure size 640x480 with 1 Axes>"
      ]
     },
     "metadata": {},
     "output_type": "display_data"
    }
   ],
   "source": [
    "f = lambda x: (-5*x**2 + x**4)*np.exp(-.2*x**2)\n",
    "a = -4\n",
    "b = 8\n",
    "\n",
    "x = np.linspace(-10,10,1000)\n",
    "plt.plot(x, f(x))\n",
    "plt.fill_between(x, f(x), where=(x >= a) & (x <= b), color='lightblue', alpha=0.5)\n",
    "\n",
    "\n",
    "# Ergebnisse berechnen und ausgeben\n",
    "n = 10\n",
    "exact_value = scipy.integrate.quad(f, a, b)[0]\n",
    "box_value = integral_box(f, a, b, n)\n",
    "linear_value = integral_linear(f, a, b, n)\n",
    "simpson_value = integral_simpson(f, a, b, n)\n",
    "\n",
    "print(\"Verlgeich der Näherungenfür n =\", n)\n",
    "print(\"Exakte Lösung:\", exact_value)\n",
    "print(\"Rechteckregel:\", box_value, \"Fehler:\", abs(box_value - exact_value))\n",
    "print(\"Lineare Näherung:\", linear_value, \"Fehler:\", abs(linear_value - exact_value))\n",
    "print(\"Simpson-Regel:\", simpson_value, \"Fehler:\", abs(simpson_value - exact_value))"
   ]
  },
  {
   "cell_type": "markdown",
   "metadata": {},
   "source": [
    "\n",
    "Implementieren Sie drei Funktionen, um die das Integral numerisch zu berechnen: Sie nehmen  den linken Funktionswert und nähern die Fläche durch ein Rechteck, die Annäherung durch eine lineare Funktion und die 3-Punkt-Simpson-Formel. Vergleichen Sie die Ergebnisse für eine Unterschiedliche Anzahl an Integrationsintervallen n.\n",
    "\n",
    "Zum Vergleich wird die numerische Integration mit scipy.integrate.quad genutzt, die eine numerische Integration bereitstellt. Ab welchem n weicht der von Ihnen berechnete Wert weniger als 0,01 vom tatsächlichen Wert ab?"
   ]
  },
  {
   "cell_type": "markdown",
   "metadata": {},
   "source": [
    "## Anwendungsaufgabe"
   ]
  },
  {
   "cell_type": "markdown",
   "metadata": {},
   "source": [
    "### Blutdruck-Medikament\n",
    "Durch die Einnahme eines Medikaments zur Regulierung des Blutdrucks gelangen Wirkstoffe ins Blut. Die Wirkstoffmenge im Blut kann näherungsweise durch eine Funktion m beschrieben werden, deren 1. Ableitung bekannt ist:  \n",
    "$m'(t)= 1,2\\cdot e^{-0,04t}  - 0,1$ mit $t \\geq 0$  \n",
    "$t$: Zeit in min  \n",
    "$m'(t)$:  momentane Änderungsrate der Wirkstoffmenge im Blut zur Zeit t in mg/min\n",
    "\n",
    "Zum Zeitpunkt $t = 0$ beträgt die Wirkstoffmenge im Blut 10 mg.\n",
    "1. Erstellen Sie eine Gleichung der Funktion m.\n",
    "2. Berechnen Sie, nach welcher Zeit der Wirkstoff vollständig abgebaut ist.\n",
    "Anmerkung: Die Lösung der entsprechenden Gleichung kann nur näherungsweise berechnet werden, nutzen Sie hierfür bspw. das Newton-Verfahren.\n",
    "\n",
    "Quelle dieser Aufgabe: [Mathematik macht Freude](https://mmf.univie.ac.at/) (Datenquelle: Bundesministerium für Bildung, Wissenschaft und Forschung, Lizenz Creative Commons BY 4.0)\n",
    "\n",
    "Tipp: machen Sie sich mit der Funktion `scipy.integrate.quad` vertraut."
   ]
  },
  {
   "cell_type": "code",
   "execution_count": 13,
   "metadata": {},
   "outputs": [],
   "source": [
    "# TODO"
   ]
  }
 ],
 "metadata": {
  "kernelspec": {
   "display_name": ".venv",
   "language": "python",
   "name": "python3"
  },
  "language_info": {
   "codemirror_mode": {
    "name": "ipython",
    "version": 3
   },
   "file_extension": ".py",
   "mimetype": "text/x-python",
   "name": "python",
   "nbconvert_exporter": "python",
   "pygments_lexer": "ipython3",
   "version": "3.12.9"
  }
 },
 "nbformat": 4,
 "nbformat_minor": 2
}
