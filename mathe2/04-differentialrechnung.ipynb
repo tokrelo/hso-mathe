{
 "cells": [
  {
   "cell_type": "markdown",
   "metadata": {},
   "source": [
    "# Differentialrechnung\n",
    "\n",
    "\n",
    "## Imports\n",
    "\n",
    "Führen Sie zunächst den folgenden Code aus, um die relevanten Bibliotheken einzubinden.\n",
    "Um die Syntax etwas zu vereinfachen, importieren wir die Klassen und Funktionen diesmal in den globalen Namespace, auch wenn das eigentlich nicht übliche Praxis in Python ist."
   ]
  },
  {
   "cell_type": "code",
   "execution_count": null,
   "metadata": {},
   "outputs": [],
   "source": [
    "import numpy as np\n",
    "import matplotlib.pyplot as plt\n",
    "import scipy"
   ]
  },
  {
   "cell_type": "markdown",
   "metadata": {},
   "source": [
    "## Die Ableitung\n",
    "Die Ableitung berechnet sich durch $f'(x_0)=\\lim_{h\\to 0}\\frac{f(x_0+h)-f(x_0)}{h}$. Diese Definition über den Differenzenquotienten gibt uns direkt eine Möglichkeit an die Hand, die Ableitung numerisch zu berechnen, indem wir einen kleinen Wert für $h$ vorgeben und den Differenzenquotienten direkt ausrechnen.\n",
    "\n",
    "Definieren Sie hier eine Funktion `derivative`, die zu einer gegebenen Funktion $f$ die Ableitung $f'$ numerisch berechnet. Wenn Sie nichts falsch  machen, dann kann diese Funktion übrigens direkt die Ableitung für an ganzes array an x-Werten berechnen."
   ]
  },
  {
   "cell_type": "code",
   "execution_count": null,
   "metadata": {},
   "outputs": [],
   "source": [
    "def derivative(f, x, h):\n",
    "    return x # TODO"
   ]
  },
  {
   "cell_type": "markdown",
   "metadata": {},
   "source": [
    "Experimentieren Sie ein wenig mit Ihrer Funktion, indem Sie für verschiedene $h$ die numerische Ableitung der Funktion $f(x)=x^3$ berechnen. Wie genau sind Ihre Ergebnisse im Vergleich zur analytisch berechneten Ableitung $f'(x)=3\\cdot x^2$?"
   ]
  },
  {
   "cell_type": "code",
   "execution_count": null,
   "metadata": {},
   "outputs": [],
   "source": [
    "f = lambda x: x # TODO\n",
    "fp = lambda x: x # TODO\n",
    "\n",
    "h = 1 # TODO\n",
    "\n",
    "for x in [1, 2, 3, 4]: # TODO: Werte für x einsetzen\n",
    "    print(x, derivative(f, x, h), fp(x))"
   ]
  },
  {
   "cell_type": "markdown",
   "metadata": {},
   "source": [
    "Visualiseren Sie jetzt mit Hilfe des vorbereiteten Codes die numerisch berechnete Ableitung von verschiedenen Grundfunktionen und vergleichen Sie mit der berechneten Ableitung. Variieren Sie $h$ und beobachten Sie, ab welchem Wert Sie eine brauchbare Annäherung haben. Wo ist die Annäherung gut, wo schlecht?"
   ]
  },
  {
   "cell_type": "code",
   "execution_count": null,
   "metadata": {},
   "outputs": [],
   "source": [
    "def visualize_derivative(f, fp_analytical, xmin, xmax, h):\n",
    "    \"\"\"Create a plot showing the function f, both derivatives and the difference between the numerical and analytical derivative.\"\"\"\n",
    "\n",
    "    # Compute numerical derivative\n",
    "    fp_numerical = lambda x: derivative(f, x, h)\n",
    "\n",
    "    # Visualize results\n",
    "    plt.subplots(1, 3, figsize=(12, 3))\n",
    "    x = np.linspace(xmin, xmax, 500)\n",
    "\n",
    "    # First subplot: show function f\n",
    "    plt.subplot(1, 3, 1)\n",
    "    plt.xlim(x[0], x[-1])\n",
    "    plt.xlabel(\"x\")\n",
    "    plt.title(\"f(x)\")\n",
    "    plt.plot(x, f(x))\n",
    "\n",
    "    # Second subplot: show both derivatives\n",
    "    plt.subplot(1, 3, 2)\n",
    "    plt.xlim(x[0], x[-1])\n",
    "    plt.xlabel(\"x\")\n",
    "    plt.title(\"f'(x)\")\n",
    "    plt.plot(x, fp_analytical(x), label=\"Analytische Ableitung\")\n",
    "    plt.plot(x, fp_numerical(x), label=\"Numerische Ableitung\")\n",
    "    plt.legend(loc=\"best\")\n",
    "\n",
    "    # Third subplot: show error, i.e. difference between the two derivatives\n",
    "    plt.subplot(1, 3, 3)\n",
    "    plt.xlim(x[0], x[-1])\n",
    "    plt.xlabel(\"x\")\n",
    "    plt.title(\"error\")\n",
    "    diff = fp_analytical(x) - fp_numerical(x)\n",
    "    plt.plot(x, abs(diff))\n",
    "    plt.semilogy()"
   ]
  },
  {
   "cell_type": "code",
   "execution_count": null,
   "metadata": {},
   "outputs": [],
   "source": [
    "# Definiere h\n",
    "h = 1  # TODO\n",
    "\n",
    "# Definiere die Funktion sowie die (analytisch berechnete) Ableitung\n",
    "f = lambda x: x  # TODO\n",
    "fp_analytical = lambda x: x  # TODO\n",
    "\n",
    "# Visualisiere Funktion und Ableitung\n",
    "visualize_derivative(f, fp_analytical, -pi, pi, h)"
   ]
  },
  {
   "cell_type": "markdown",
   "metadata": {},
   "source": [
    "### Komplexere Ableitungen\n",
    "\n",
    "Experimentieren Sie auch mit komplexeren Funktionen, bei denen Sie die Ableitungen vergleichen können (Sie finden diese Funktionen auch in den gemischten Übungen). Berechne  Sie wieder die analytischen Ableitungen und vergleichen Sie mit der numerisch berechneten. Sie können die oben definierte Funktion `visualize_derivative` verwenden. Überlegen Sie, ob Sie den Verlauf er Steigung nachvollziehen können.\n",
    "\n",
    "1. $f(x)=\\frac{x^5}{2}-\\frac{2}{x^5}+\\frac{5}{x}-\\frac{x}{5}+\\frac{5}{\\sqrt x}$\n",
    "3. $f(x)=\\sqrt{x^3+3x^2+2}$\n",
    "5. $f(x)=\\frac{ln(1-x)}{x^3}$"
   ]
  },
  {
   "cell_type": "code",
   "execution_count": null,
   "metadata": {},
   "outputs": [],
   "source": [
    "# TODO"
   ]
  },
  {
   "cell_type": "markdown",
   "metadata": {},
   "source": [
    "## Tangente als beste lineare Approximation"
   ]
  },
  {
   "cell_type": "markdown",
   "metadata": {},
   "source": [
    "Betrachten Sie die Annäherung für $x=0$: $sin(x) \\simeq x$. Geben Sie die Werte von $sin(x)$ aus für $x=0,1; 0,01; 0,001; \\dots$. Können Sie einen ungefähren Wert bestimmen, bis zu dem der Fehler kleiner ist als $10^{-3}$? "
   ]
  },
  {
   "cell_type": "code",
   "execution_count": null,
   "metadata": {},
   "outputs": [],
   "source": [
    "f = lambda x: np.sin(x)  # Die Funktion f\n",
    "t = lambda x: x  # Die Tangente an f\n",
    "\n",
    "for x in [1]:  # TODO: Werte fuer x eintragen\n",
    "    print(\"f = \", f(x), \", t =\", t(x), \", diff =\", abs(f(x) - t(x)))"
   ]
  },
  {
   "cell_type": "markdown",
   "metadata": {},
   "source": [
    "## Nullstellenbestimmung mit Newton-Verfahren\n",
    "\n",
    "### Implementierung der Funktion\n",
    "\n",
    "Implementieren Sie hier das Newton-Verfahren zur Bestimmung von  Nullstellen. Die Funktion dazu hat folgende Parameter: die zu untersuchende Funktion $f$, deren Ableitung $f'$, einen anfänglichen Wert $x_0$ sowie (optional) die Genauigkeit der Abbruchbedingung $\\varepsilon$. Brechen Sie spätestens nach 1000 Schritten die Berechnung ab.\n",
    "Rückgabewerte sollen die Position der Nullstelle, der Funktionswert an dieser Stelle sowie die Anzahl an durchgeführten Schritten sein.\n",
    "\n",
    "Zum Testen können Sie die weiter unten definierte Funktion nutzen."
   ]
  },
  {
   "cell_type": "code",
   "execution_count": null,
   "metadata": {},
   "outputs": [],
   "source": [
    "def Newton(f, fp, x0, eps=1e-4):\n",
    "    n = 0\n",
    "    return x0, f(x0), n"
   ]
  },
  {
   "cell_type": "markdown",
   "metadata": {},
   "source": [
    "### Erster Test\n",
    "Für einen ersten Test verwenden wir die Funktion $f(x)=x^5 - x^3 - 2*x^2 - 4$, die erwartete Nullstelle ist $x=1,71827$."
   ]
  },
  {
   "cell_type": "code",
   "execution_count": null,
   "metadata": {},
   "outputs": [],
   "source": [
    "f = lambda x: x**5 - x**3 - 2 * x**2 - 4\n",
    "fp = lambda x: 5 * x**4 - 3 * x**2 - 4 * x\n",
    "\n",
    "x0, fx0, n = Newton(f, fp, 1)\n",
    "print(\"x0 =\", x0, \", f(x0) =\", fx0, \", nIter =\", n)"
   ]
  },
  {
   "cell_type": "markdown",
   "metadata": {},
   "source": [
    "### Nullstellenbestimmung\n",
    "\n",
    "Ermitteln Sie mit Ihrer oben definierten Funktion `Newton` die Nullstellen der folgenden Funktionen bzw. die Lösung der Gleichung (auf 2 Nachkommastellen genau):\n",
    "1. $f(x) = e^x + x - 18$ (Kontrolle: $2,7261$)\n",
    "2. $f(x) = x^3 + 3x - 6$ (Kontrolle: $1,28791$)\n",
    "3. $ln(x)+e^x = x^2 - 1$ (Kontrolle: $0,12078$)\n",
    "\n",
    "Tipp 1: Für 3. stellen Sie die Gleichung so um, dass Sie auf einer Seite eine 0 stehen haben. Diese Form können Sie dann für eine Nullstellensuche nutzen.\n",
    "\n",
    "Tipp 2: überlegen Sie mit Hilfe des Zwischenwertsatzes, wo Sie Nullstellen erwarten, um einen günstigen Anfangswert zu haben."
   ]
  },
  {
   "cell_type": "code",
   "execution_count": null,
   "metadata": {},
   "outputs": [],
   "source": [
    "# TODO"
   ]
  },
  {
   "cell_type": "markdown",
   "metadata": {},
   "source": [
    "### Visualisierung der Konvergenz\n",
    "Der folgende Abschnitt definiert eine Funktion um die Konvergenz des Newton-Verfahrens zu visualisieren.\n",
    "\n",
    "* Blau: Funktion f\n",
    "* Gelbe Punkte: Iterationsschritte $x_i$\n",
    "* Grau gestrichelte Linien: Tangente bei $x_i$ und Schnittpunkt mit x-Achse"
   ]
  },
  {
   "cell_type": "code",
   "execution_count": null,
   "metadata": {},
   "outputs": [],
   "source": [
    "def newton_convergence(f, fp, x0, eps=1e-2):\n",
    "    steps = [x0]  # steps taken by the Newton algorithm\n",
    "    while abs(f(x0)) > eps and len(steps) < 1000:\n",
    "        x0 = x0 - f(x0) / fp(x0)  # one Newton iteration\n",
    "        steps.append(x0)\n",
    "    steps = np.array(steps)  # convert to numpy array for easier handling\n",
    "    fig, ax = plt.subplots(figsize=(4, 4))\n",
    "    plt.xlabel(\"x\")\n",
    "    plt.ylabel(\"y\")\n",
    "    x = np.linspace(min(steps), max(steps))\n",
    "    plt.plot(x, f(x), \"b\")  # blue line: the function itself\n",
    "    plt.plot(x, np.zeros(len(x)), \"-k\")  # black line for y=0\n",
    "    plt.plot(steps, f(steps), \"o\", c=\"orange\")  # steps with orange bullets\n",
    "    for i in range(len(steps)):\n",
    "        s = steps[i]\n",
    "        ax.annotate(\"$y_{{{:d}}}$\".format(i), xy=(s, f(s)), xycoords=\"data\")\n",
    "    for i in range(len(steps) - 1):\n",
    "        x0 = steps[i]\n",
    "        x1 = steps[i + 1]\n",
    "        # dashed grey lines showing the tangent\n",
    "        plt.plot([x0, x1], [f(x0), 0], \"--\", c=\"grey\")\n",
    "        # open circles showing the intersection of tangent and x axis\n",
    "        plt.plot([x0], [0], \"o\", mfc=\"w\", mec=\"k\")\n",
    "\n",
    "\n",
    "newton_convergence(f, fp, 1.4)"
   ]
  },
  {
   "cell_type": "markdown",
   "metadata": {},
   "source": [
    "Plotten Sie jetzt die Konvergenz der drei im Abschnitt \"Nullstellenbestimmung\" definierten Funktionen."
   ]
  },
  {
   "cell_type": "code",
   "execution_count": null,
   "metadata": {},
   "outputs": [],
   "source": [
    "# TODO: Plotten Sie die Konvergenz"
   ]
  },
  {
   "cell_type": "markdown",
   "metadata": {},
   "source": [
    "### Newton Verfahren in Python\n",
    "Das Newton-Verfahren ist in der Numerik ein Standardverfahren, daher gibt es natürlich eine Implementierung in Python, diese findet sich in scipy.optimize.newton. Recherchieren Sie die Benutzung von newton und wiederholen Sie die Berechnung der Nullstellen mit newton. Wieso benötigt die scipy Funktion nicht zwingend die Angabe der 1. Ableitung?\n",
    "\n",
    "Untersuchen Sie die Funktion $e^x -4 x^2 + 5$ und berechnen Sie die Nullstellen.\n",
    "\n",
    "Finden Sie zunächst heraus, wie viele Nullstellen die Funktion hat - zum Beispiel indem Sie die Funktion plotten. Geben Sie dann alle Nullstellen an."
   ]
  },
  {
   "cell_type": "code",
   "execution_count": null,
   "metadata": {},
   "outputs": [],
   "source": [
    "from scipy import optimize\n",
    "\n",
    "f = lambda x: exp(x)-4*x*x+5\n",
    "# TODO: finden Sie die Nullstellen der Funktion mit der Funktion optimize.newton"
   ]
  },
  {
   "cell_type": "markdown",
   "metadata": {},
   "source": [
    "## Extremwertprobleme\n",
    "\n",
    "### Numerische Lösung von Extremwertproblemen\n",
    "Durch Kombintion von Newton-Verfahren mit Ableitungen können Sie Extremwertprobleme für Funktionen lösen, für die keine analytische Lösung möglich ist. \n",
    "\n",
    "Betrachten Sie die Funktion $f(x)=e^x - x^3$ und berechnen Sie die Ableitung. Plotten Sie zunächst die Funktion sowie ihre Ableitung, um zu erkennen, wie viele lokale Extremstellen die Funktion hat (Tipp: es sind 3).\n"
   ]
  },
  {
   "cell_type": "code",
   "execution_count": null,
   "metadata": {},
   "outputs": [],
   "source": [
    "f = lambda x: np.exp(x) - x**3\n",
    "f1 = lambda x: 0 # TODO: Berechnen Sie die Ableitung\n",
    "\n",
    "# TODO: Plotten Sie die Funktion sowie ihre erste Ableitung"
   ]
  },
  {
   "cell_type": "markdown",
   "metadata": {},
   "source": [
    "Nachdem Sie jetzt einen Eindruck davon haben, wo die Extremwerte der Funktion sein könnten, berechnen Sie diese. Analytisch ist das nicht möglich, nutzen Sie daher das Newton-Verfahren."
   ]
  },
  {
   "cell_type": "code",
   "execution_count": null,
   "metadata": {},
   "outputs": [],
   "source": [
    "# TODO: Berechnen Sie die Nullstellen der ersten Ableitung mit dem Newton-Verfahren"
   ]
  },
  {
   "cell_type": "markdown",
   "metadata": {},
   "source": [
    "### Die optimale Form einer Konservendose\n",
    "Welche Form hat eine zylindrische Konservendose mit 1 Liter Inhalt und minimaler Oberfläche. Anders gefragt: wie groß sind Radius und Höhe einer Dose mit 1 l Volumen und minimalem Materialverbrauch?\n",
    "\n",
    "Das Volumen des Zylinders ist $V(h,r)=\\pi\\cdot r^2\\cdot h$, die Oberfläche ist (zweimal Grundfläche plus Mantelfläche) $O(h,r)=2\\pi r^2 + 2\\pi r h$.\n",
    "Durch Einsetzen der Bedingung $V=1$ erhält man $O(r)=2(\\pi r^2  + \\frac 1r)$.\n",
    "<img src=\"zylinder.png\" alt=\"Zylinder\" width=\"150px\">\n",
    "\n",
    "Plotten Sie die Funktion $O(r)$ und veranschaulichen Sie sich, wie das benötigte Material mit der Höhe bzw. dem Radius zusammenhängt."
   ]
  },
  {
   "cell_type": "code",
   "execution_count": null,
   "metadata": {},
   "outputs": [],
   "source": [
    "# TODO: definieren und plotten Sie O(r)"
   ]
  },
  {
   "cell_type": "markdown",
   "metadata": {},
   "source": [
    "Lösen Sie jetzt das Extremwertproblem, indem Sie numerisch die Ableitung von O(r) bestimmen und die Nullstellen der Ableitung numerisch mit dem Newton-Verfahren berechnen.  Welche Werte erhalten Sie für r und h?"
   ]
  },
  {
   "cell_type": "code",
   "execution_count": null,
   "metadata": {},
   "outputs": [],
   "source": [
    "# TODO: loesen Sie das Extremwertproblem und berechnen Sie h und r"
   ]
  }
 ],
 "metadata": {
  "kernelspec": {
   "display_name": ".venv",
   "language": "python",
   "name": "python3"
  },
  "language_info": {
   "codemirror_mode": {
    "name": "ipython",
    "version": 3
   },
   "file_extension": ".py",
   "mimetype": "text/x-python",
   "name": "python",
   "nbconvert_exporter": "python",
   "pygments_lexer": "ipython3",
   "version": "3.12.9"
  }
 },
 "nbformat": 4,
 "nbformat_minor": 2
}
