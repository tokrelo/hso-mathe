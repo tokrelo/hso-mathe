{
 "cells": [
  {
   "cell_type": "markdown",
   "metadata": {},
   "source": [
    "# Folgen\n",
    "\n",
    "## Imports\n",
    "\n",
    "Führen Sie zunächst den folgenden Code aus, um die relevanten Bibliotheken einzubinden.\n"
   ]
  },
  {
   "cell_type": "code",
   "execution_count": null,
   "metadata": {},
   "outputs": [],
   "source": [
    "import numpy as np\n",
    "import matplotlib.pyplot as plt\n",
    "import scipy"
   ]
  },
  {
   "cell_type": "markdown",
   "metadata": {},
   "source": [
    "## Grundlagen\n",
    "\n",
    "### Darstellung von Folgen\n",
    "Im folgenden sehen Sie Beispielcode, um eine Folge zu plotten. Sie können die hier definierte Funktion `plot_sequence` in späteren Code-Abschnitten nutzen (denken Sie daran, dass Sie diesen Abschnitt vorher ausführen müssen, sonst kennt Python die Funktion nicht. Gleiches gilt für den Import der Pakete ganz oben!). \n"
   ]
  },
  {
   "cell_type": "code",
   "execution_count": null,
   "metadata": {},
   "outputs": [],
   "source": [
    "def create_figure(fig_title):\n",
    "    \"\"\"Create a new figure to plot a sequence\"\"\"\n",
    "    fig, ax = plt.subplots(figsize=(4,3))\n",
    "\n",
    "    # move coordinate axes\n",
    "    ax.spines[\"left\"].set_position(\"zero\")\n",
    "    ax.spines[\"right\"].set_color(None)\n",
    "    ax.spines[\"bottom\"].set_position(\"zero\")\n",
    "    ax.spines[\"top\"].set_color(None)\n",
    "    plt.xlabel(\"$n$\")\n",
    "    plt.ylabel(\"$a_n$\")\n",
    "    plt.title(fig_title)\n",
    "\n",
    "\n",
    "def add_sequence(a, n_min, n_max):\n",
    "    \"\"\"Add a plot to the last figure that was created\"\"\"\n",
    "    num = n_max - n_min + 1\n",
    "    x = np.arange(n_min, n_max+1)  # define an array containing [n_min, n_min+1, ..., n_max]\n",
    "    y = np.zeros(num)  # define an array of zeros with length n_max\n",
    "    for n in range(num):\n",
    "        y[n] = a(n + n_min)\n",
    "    plt.plot(x, y, \"o--\")\n",
    "\n",
    "\n",
    "def plot_sequence(a, n_min=0, n_max=10, title=\"\"):\n",
    "    \"\"\"Create a figure and plot the sequnce a\"\"\"\n",
    "    create_figure(title)\n",
    "    add_sequence(a, n_min, n_max)"
   ]
  },
  {
   "cell_type": "markdown",
   "metadata": {},
   "source": [
    "Nachdem jetzt eine Funktion zum Plotten von Folgen definiert ist, können wir mit wenig Aufwand zwei Folgen definieren und sie in der gleichen Grafik plotten."
   ]
  },
  {
   "cell_type": "code",
   "execution_count": null,
   "metadata": {},
   "outputs": [],
   "source": [
    "def a(n):\n",
    "  \"\"\"The alternating sequence a_n = (-1^n) / n\"\"\"\n",
    "  sign = 2 * ((n+1) % 2) - 1 # -1 if n is odd, 1 if n is even\n",
    "  return sign /n\n",
    "\n",
    "def b(n):\n",
    "  \"\"\"The sequence 1/sqrt(n)\"\"\"\n",
    "  return 1/np.sqrt(n)\n",
    "\n",
    "plot_sequence(a, 1, 20, \"$a_n = \\\\frac{{-1}^n}{n}, b_n=1/\\\\sqrt{n}$\")\n",
    "add_sequence(b, 1, 20)"
   ]
  },
  {
   "cell_type": "markdown",
   "metadata": {},
   "source": [
    "### Verhalten von Folgen - Qualitative Unterschiede\n",
    "Plotten Sie die Folgen $n^2$ und $(-1)^n / n$."
   ]
  },
  {
   "cell_type": "code",
   "execution_count": null,
   "metadata": {},
   "outputs": [],
   "source": []
  },
  {
   "cell_type": "markdown",
   "metadata": {},
   "source": [
    "### Wachstum im Vergleich\n",
    "Die Grundfunktionen $log(n)$, $n$, $n^2$ und $2^n$ wachsen unbeschränkt, jedoch mit ganz unterschiedlicher  Geschwindigkeit. Geben Sie die jeweiligen Folgenwerte für $n=2$, $n=10$, $n=20$ sowie $n=100$ aus um ein Gefühl für das Wachstum der Folgen zu bekommen."
   ]
  },
  {
   "cell_type": "code",
   "execution_count": null,
   "metadata": {},
   "outputs": [],
   "source": [
    "# TODO"
   ]
  },
  {
   "cell_type": "markdown",
   "metadata": {},
   "source": [
    "Plotten Sie jetzt die ersten 10 Folgenglieder der 4 Folgen im gleichen Diagramm."
   ]
  },
  {
   "cell_type": "code",
   "execution_count": null,
   "metadata": {},
   "outputs": [],
   "source": [
    "# TODO: definieren Sie die 4 Folgen\n",
    "\n",
    "create_figure(\"Wachstum im Vergleich\")\n",
    "#TODO plotten Sie die 4 Folgen"
   ]
  },
  {
   "cell_type": "markdown",
   "metadata": {},
   "source": [
    "### Geometrische Folge\n",
    "Plotten Sie die geometrische Folge für $q=0,5$ und $q=1,5$."
   ]
  },
  {
   "cell_type": "code",
   "execution_count": null,
   "metadata": {},
   "outputs": [],
   "source": [
    "# TODO"
   ]
  },
  {
   "cell_type": "markdown",
   "metadata": {},
   "source": [
    "### Die Eulersche Zahl\n",
    "Die Euleresche Zahl $e$ kann als Grenzwert berechnet werden: $e = lim_{n\\rightarrow\\infty}\\left(1+\\frac 1n\\right)^n = 2,7182818285\\dots$\n",
    "\n",
    "Definieren Sie die Folge und plotten Sie die Folge für die ersten 1000 Folgenglieder.\n",
    "\n",
    "Plotten Sie außerdem die Differenz zwischen der Folge und dem tatsächlichen Wert von $e$. Wie schnell wird diese Differenz kleiner?"
   ]
  },
  {
   "cell_type": "code",
   "execution_count": null,
   "metadata": {},
   "outputs": [],
   "source": [
    "def e(n):\n",
    "  # TODO\n",
    "  return 0\n",
    "\n",
    "plot_sequence(e, 1, 1000)\n",
    "\n",
    "def diff(n):\n",
    "    return 2.7182818285 - e(n)\n",
    "\n",
    "# Semi-logarithmic plot to see the convergence of e \n",
    "plt.figure(figsize=(4,3))\n",
    "add_sequence(diff, 1, 1000)\n",
    "plt.semilogy()"
   ]
  },
  {
   "cell_type": "markdown",
   "metadata": {},
   "source": [
    "### Grenzwerte von Folgen\n",
    "Untersuchen Sie die folgenden Folgen und bestimmen Sie grafisch die Grenzwerte. Plotten Sie dafür zunächst die ersten Folgenglieder und beurteilen Sie, ob die Folge konvergiert. Im Anschluss können Sie die Differenz der Folgenglieder mit dem berechneten Grenzwert plotten und die Annäherung an den Grenzwert beobachten.\n",
    "Ersetzen Sie dafür jeweils die Definition von $a_n$.\n",
    "\n",
    "1. $\\lim_{n\\to\\infty} \\frac{4 - 3\\sqrt n - 2n^4}{1 + n(1-n)^2}$\n",
    "1. $\\lim_{n\\to\\infty}\\left( 3 - \\left(\\frac 12\\right)^n\\right)$\n",
    "1. $\\lim_{n\\to\\infty} \\frac{4^{n+1}}{5^n}$\n",
    "1. $\\lim_{n\\to\\infty} \\frac{1,05^{n+1} - 1}{1,05-1}$\n",
    "1. $\\lim_{n\\to\\infty} \\frac{0,05^{n+1} - 1}{1,05-1}$\n",
    "\n",
    "Vergleichen Sie die grafisch erhaltenen Ergebnisse mit denen, die Sie durch eine Berechnung der Grenzwerte erhalten."
   ]
  },
  {
   "cell_type": "code",
   "execution_count": null,
   "metadata": {},
   "outputs": [],
   "source": [
    "def a(n):\n",
    "    return 0\n",
    "\n",
    "expected_value = 0\n",
    "\n",
    "n_min = 1  # lower limit of n\n",
    "n_max = 20  # upper limit of n\n",
    "\n",
    "### You do not need to change anything in the code below ###\n",
    "\n",
    "# Plot results\n",
    "fig, (ax1, ax2) = plt.subplots(1, 2, figsize=(8, 3))\n",
    "ax1.title.set_text(\"Folge $a_n$\")\n",
    "ax2.title.set_text(\"diff\")\n",
    "\n",
    "\n",
    "plt.sca(ax1)  # set active ax to first subplot\n",
    "add_sequence(a, n_min, n_max)\n",
    "\n",
    "plt.sca(ax2)  # set active ax to second subplot\n",
    "add_sequence(lambda n: a(n) - expected_value, n_min, n_max)"
   ]
  }
 ],
 "metadata": {
  "kernelspec": {
   "display_name": ".venv",
   "language": "python",
   "name": "python3"
  },
  "language_info": {
   "codemirror_mode": {
    "name": "ipython",
    "version": 3
   },
   "file_extension": ".py",
   "mimetype": "text/x-python",
   "name": "python",
   "nbconvert_exporter": "python",
   "pygments_lexer": "ipython3",
   "version": "3.12.9"
  }
 },
 "nbformat": 4,
 "nbformat_minor": 2
}
