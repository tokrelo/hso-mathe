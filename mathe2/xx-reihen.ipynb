{
 "cells": [
  {
   "cell_type": "markdown",
   "metadata": {},
   "source": [
    "# Reihen\n",
    "\n",
    "## Imports\n",
    "\n",
    "Führen Sie zunächst den folgenden Code aus, um die relevanten Bibliotheken einzubinden.\n"
   ]
  },
  {
   "cell_type": "code",
   "execution_count": null,
   "metadata": {},
   "outputs": [],
   "source": [
    "import numpy as np\n",
    "import scipy as sp\n",
    "import pylab as plt"
   ]
  },
  {
   "cell_type": "markdown",
   "metadata": {},
   "source": [
    "## Reihen\n",
    "\n",
    "### Berechnung von Partialsummen\n",
    "\n",
    "Füllen Sie die Definition der Funktion `partial_sum(a, n_0, m)`, welche die Partialsumme $s_m$ der Folge $a_n$ berechnet: $s_m = \\sum_{n=n_0}^{m} a(n)$."
   ]
  },
  {
   "cell_type": "code",
   "execution_count": null,
   "metadata": {},
   "outputs": [],
   "source": [
    "def partial_sum(a, n_0, m):\n",
    "  #TODO\n",
    "  return 0"
   ]
  },
  {
   "cell_type": "markdown",
   "metadata": {},
   "source": [
    "Plotten Sie jetzt durch Ausführen der nächsten Zelle die konvergente geometrische Reihe $\\sum_{n=0}^m \\frac 12 ^n$."
   ]
  },
  {
   "cell_type": "code",
   "execution_count": null,
   "metadata": {},
   "outputs": [],
   "source": [
    "def a(n):\n",
    "    return .5**n\n",
    "\n",
    "plot_sequence(lambda m: partial_sum(a, 0, m), 0, 20, \"Geometrische Reihe mit q=1/2\")"
   ]
  },
  {
   "cell_type": "markdown",
   "metadata": {},
   "source": [
    "### Konvergenz von Reihen\n",
    "Betrachten Sie die Reihen aus Aufgabe 10 in den gemischten Übungen. Untersuchen Sie grafisch die Konvergenz, indem Sie die ersten Partialsummen plotten (also die Summe bei einer endlichen Zahl $n_{max}$ abbrechen). Wo es möglich ist, einen exakten Wert der Reihe zu berechnen, können Sie diesen Eingeben und die Konvergenz der Reihe gegen diesen Wert untersuchen.\n",
    "\n",
    "Ersetzen Sie dazu jeweils die Definition von $a_n$.\n",
    "\n",
    "Überlegen Sie, wie viele Reihenglieder sie benötigen, um den Grenzwert mit hinreichender Genauigkeit zu berechnen. Wann können Sie die Summe abbrechen?"
   ]
  },
  {
   "cell_type": "code",
   "execution_count": null,
   "metadata": {},
   "outputs": [],
   "source": [
    "# TODO: set sequence and expected (analytically computed) value here\n",
    "\n",
    "def a(n):\n",
    "    return 0\n",
    "\n",
    "expected_value = 0\n",
    "\n",
    "# You may adapt the lower and upper limit of the sum here\n",
    "n_min = 0 # lower limit of sum\n",
    "n_max = 20 # upper limit of sum\n",
    "\n",
    "### You do not need to change anything in the code below ###\n",
    "\n",
    "# Compute partial sum\n",
    "s_m = [partial_sum(a, n_min, m) for m in range(n_min, n_max+1)]\n",
    "\n",
    "# Plot results\n",
    "fig, (ax1, ax2) = plt.subplots(1,2, figsize=(8,3))\n",
    "\n",
    "plt.sca(ax1) # set active ax to first subplot\n",
    "ax1.title.set_text(\"Partialsumme $s_m$\")\n",
    "plt.plot(np.arange(n_min, n_max+1), s_m, 'o--')\n",
    "plt.xlabel(\"$m$\")\n",
    "\n",
    "plt.sca(ax2) # set active ax to second subplot\n",
    "ax2.title.set_text(\"Abweichung vom berechneten Wert\")\n",
    "plt.plot(np.arange(n_min, n_max + 1), np.array(s_m) - expected_value, \"o--\")\n",
    "plt.xlabel(\"$m$\")"
   ]
  },
  {
   "cell_type": "code",
   "execution_count": null,
   "metadata": {},
   "outputs": [],
   "source": []
  }
 ],
 "metadata": {
  "kernelspec": {
   "display_name": "Python 3",
   "language": "python",
   "name": "python3"
  },
  "language_info": {
   "codemirror_mode": {
    "name": "ipython",
    "version": 3
   },
   "file_extension": ".py",
   "mimetype": "text/x-python",
   "name": "python",
   "nbconvert_exporter": "python",
   "pygments_lexer": "ipython3",
   "version": "3.11.8"
  }
 },
 "nbformat": 4,
 "nbformat_minor": 2
}
