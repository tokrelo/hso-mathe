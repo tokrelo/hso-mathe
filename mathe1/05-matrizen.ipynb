{
 "cells": [
  {
   "cell_type": "markdown",
   "metadata": {},
   "source": [
    "# Matrixrechnung\n",
    "\n",
    "## Generelles:\n",
    "Importieren Sie zunächst die mathematischen Pakete. Denken Sie daran, diese Imports jedes mal als erstes auszuführen!"
   ]
  },
  {
   "cell_type": "code",
   "execution_count": 2,
   "metadata": {},
   "outputs": [],
   "source": [
    "from scipy import *\n",
    "from pylab import *\n",
    "from numpy import *"
   ]
  },
  {
   "cell_type": "markdown",
   "metadata": {},
   "source": [
    "## Matrizen in Python: Grundlegende Operationen\n",
    "Matrizen werden in Python als 2D-arrays dargestellt. Sie können beispielsweise direkt zwei 2x2 Matrizen erstellen."
   ]
  },
  {
   "cell_type": "code",
   "execution_count": null,
   "metadata": {},
   "outputs": [],
   "source": [
    "A = array([[1, 2], [3, 4]])\n",
    "B = array([[5, 6], [7, 8]])\n",
    "\n",
    "print(A)\n",
    "print(B)\n",
    "\n",
    "# Element Zugriff\n",
    "a = A[0, 0] # 1\n",
    "b = A[0, 1] # 2\n",
    "c = A[1, 0] # 3\n",
    "d = A[1, 1] # 4"
   ]
  },
  {
   "cell_type": "markdown",
   "metadata": {},
   "source": [
    "Die üblichen Operationen sind von numpy schon definiert: Addition, Subtraktion, Multiplikation, Transponieren"
   ]
  },
  {
   "cell_type": "code",
   "execution_count": null,
   "metadata": {},
   "outputs": [],
   "source": [
    "# Matrix addition\n",
    "C = A + B\n",
    "print(\"A + B =\\n\", C)\n",
    "\n",
    "# Matrix subtraction\n",
    "D = A - B\n",
    "print(\"A - B =\\n\", D)\n",
    "\n",
    "# Matrix multiplication\n",
    "E = A @ B\n",
    "print(\"A @ B =\\n\", E)\n",
    "# or\n",
    "F = dot(A, B)\n",
    "print(\"dot(A, B) =\\n\", F)\n",
    "\n",
    "# Transponierte Matrix\n",
    "G = A.T\n",
    "print(\"A.T =\\n\", G)"
   ]
  },
  {
   "cell_type": "markdown",
   "metadata": {},
   "source": [
    "Sie können auch direkt Matrizen einer bestimmten Größe mit festgelegten Einträgen erzeugen lassen:"
   ]
  },
  {
   "cell_type": "code",
   "execution_count": null,
   "metadata": {},
   "outputs": [],
   "source": [
    "# Nullmatrix der Größe 4x5\n",
    "G = zeros((4, 5))\n",
    "print(\"zeros((4, 5)) =\\n\", G)\n",
    "\n",
    "# Einheitsmatrix der Größe 3x3\n",
    "H = eye(3)\n",
    "print(\"eye(3) =\\n\", H)\n",
    "\n",
    "# Diagonalmatrix\n",
    "I = diag([1, 2, 3])\n",
    "print(\"diag([1, 2, 3]) =\\n\", I)\n",
    "\n",
    "# Matrix mit einsen\n",
    "J = ones((2, 3))\n",
    "print(\"ones((2, 3)) =\\n\", J)"
   ]
  },
  {
   "cell_type": "markdown",
   "metadata": {},
   "source": [
    "### Aufgabe:\n",
    "Führen Sie die folgenden Matrix-Multiplikationen aus. Vergleiche  Sie die Ergebnisse Stichprobenartig mit handschriftlichen Lösungen:\n",
    "\n",
    "$$\n",
    "\\begin{array}{cc}\n",
    "\\text{a)} \\begin{pmatrix}\n",
    "-2 & 3 & 1 \\\\\n",
    "6 & -9 & -3 \\\\\n",
    "4 & -6 & -2\n",
    "\\end{pmatrix}\n",
    "\\begin{pmatrix}\n",
    "3 & 1 & 1 \\\\\n",
    "2 & 0 & 1 \\\\\n",
    "0 & 2 & -1\n",
    "\\end{pmatrix} &\n",
    "\\text{b)} \\begin{pmatrix}\n",
    "1 & 0 & 0 \\\\\n",
    "0 & 1 & 0 \\\\\n",
    "4 & 0 & 0\n",
    "\\end{pmatrix}\n",
    "\\begin{pmatrix}\n",
    "1 & 0 & 0 \\\\\n",
    "0 & 1 & 0 \\\\\n",
    "4 & 0 & 0\n",
    "\\end{pmatrix} \\\\\n",
    "\\\\\n",
    "\\text{c)} \\begin{pmatrix}\n",
    "1 & 1 \\\\\n",
    "1 & 1\n",
    "\\end{pmatrix}\n",
    "\\begin{pmatrix}\n",
    "1 & 1 \\\\\n",
    "2 & 4\n",
    "\\end{pmatrix} &\n",
    "\\text{d)} \\begin{pmatrix}\n",
    "1 & 1 \\\\\n",
    "1 & 1\n",
    "\\end{pmatrix}\n",
    "\\begin{pmatrix}\n",
    "0 & 1 \\\\\n",
    "3 & 3\n",
    "\\end{pmatrix}\n",
    "\\end{array}\n",
    "$$"
   ]
  },
  {
   "cell_type": "code",
   "execution_count": null,
   "metadata": {},
   "outputs": [],
   "source": [
    "# TODO"
   ]
  },
  {
   "cell_type": "markdown",
   "metadata": {},
   "source": [
    "### Zugriff auf Zeilen oder Spalten einer Matrix\n",
    "Numpy Arrays unterstützten das sogenannte array-slicing. Damit können Sie sehr komfortabel auf Zeilen oder Spalten von Matrizen zugreifen. Dafür geben Sie als zweiten Index einfach einen Doppelpunkt an:"
   ]
  },
  {
   "cell_type": "code",
   "execution_count": null,
   "metadata": {},
   "outputs": [],
   "source": [
    "A = array([[1, 2, 3], [4, 5, 6], [7, 8, 9]])\n",
    "print(\"A =\\n\", A)\n",
    "\n",
    "# Zeilen und Spalten\n",
    "print(\"A[0, :] =\", A[0, :])\n",
    "print(\"A[:, 0] =\", A[:, 0])\n",
    "\n",
    "# Sie koennen auch die Zeilen und Spalten von Matrizen aendern\n",
    "A[0, :] = [10, 11, 12] # Erste Zeile\n",
    "A[1, :] = 2 * A[0, :] # Zweite Zeile ist das Doppelte der ersten Zeile\n",
    "print(\"A =\\n\", A)\n",
    "\n",
    "# Falls noetig koennen Sie auch die Dimensionen einer Matrix auslesen\n",
    "numRows = A.shape[0]\n",
    "numCols = A.shape[1]"
   ]
  },
  {
   "cell_type": "markdown",
   "metadata": {},
   "source": [
    "## Lösung von linearen Gleichungssystemen\n",
    "\n",
    "### Gauß-Jordan-Algorithmus\n",
    "Nutzen Sie jetzt das bislang gelernte, um den in der Vorlesung besprochenen Gauß-Jordan-Algorithmus zur Lösung von linearen Gleichungssystemen zu implementieren. Eingabewerte sind dabei eine Matrix $A$ und eine rechte Seite $\\vec b$, Rückgabewert ist der Vektor $\\vec x$, so dass $A\\cdot \\vec x=\\vec b$.\n",
    "\n",
    "Sie brauchen nur den Fall berücksichtigen, dass die Lösung des LGS eindeutig möglich ist."
   ]
  },
  {
   "cell_type": "code",
   "execution_count": 32,
   "metadata": {},
   "outputs": [],
   "source": [
    "def gauss(A, b):\n",
    "  # TODO: Implementieren Sie den Gauß-Algorithmus\n",
    "  return x"
   ]
  },
  {
   "cell_type": "markdown",
   "metadata": {},
   "source": [
    "Lösen Sie jetzt mit Ihrem Gauß-Algorithmus das LGS $$\\begin{pmatrix}\n",
    "1 & 1 & 1 \\\\\n",
    "2 & 4 & 3 \\\\\n",
    "3 & -1 & 4\n",
    "\\end{pmatrix}\\cdot\\begin{pmatrix}\n",
    "x_1 \\\\ x_2 \\\\ x_3\n",
    "\\end{pmatrix} = \\begin{pmatrix}\n",
    "2 \\\\ -1 \\\\ 7\n",
    "\\end{pmatrix}$$"
   ]
  },
  {
   "cell_type": "code",
   "execution_count": 33,
   "metadata": {},
   "outputs": [],
   "source": [
    "# TODO: Testen Sie Ihre Implementierung"
   ]
  },
  {
   "cell_type": "markdown",
   "metadata": {},
   "source": [
    "Hinweis: die richtige Lösung ist $\\begin{pmatrix}\n",
    "6 \\\\\n",
    "-1 \\\\\n",
    "3\n",
    "\\end{pmatrix}$"
   ]
  },
  {
   "cell_type": "markdown",
   "metadata": {},
   "source": [
    "### Lösen von LGS mit numpy\n",
    "In numpy gibt es natürlich schon vorgefertige Algorithmen, die Ihnen das lösen von LGS erlauben. Wenn Sie keine besonderen Anforderungen haben, können Sie in der Regel numpy.linalg.solve dafür verwenden."
   ]
  },
  {
   "cell_type": "code",
   "execution_count": null,
   "metadata": {},
   "outputs": [],
   "source": [
    "A = array([[1, 2, 3], [4, 5, 6], [7, 8, 10]])\n",
    "b = array([1, 2, 3])\n",
    "\n",
    "# Loesen des Gleichungssystem Ax = b\n",
    "x = linalg.solve(A, b)\n",
    "print(\"x =\\n\", x)\n",
    "\n",
    "# Probe\n",
    "b2 = A @ x\n",
    "print(\"b2 =\\n\", b2)"
   ]
  },
  {
   "cell_type": "markdown",
   "metadata": {},
   "source": [
    "## Berechnung von Determinanten\n",
    "Auch die Berechnung von Determinanten ist natürlich in numpy bereits vorhanden.\n",
    "Beachten Sie dass aufgrund von Rundungsfehlern die Determinante einer nicht-invertierbaren Matrix häufig nicht exakt 0 ist, sondern nur 0 im Rahmen der numerischen Genauigkeit."
   ]
  },
  {
   "cell_type": "code",
   "execution_count": null,
   "metadata": {},
   "outputs": [],
   "source": [
    "# Determinante einer invertierbaren Matrix\n",
    "A = array([[1, 2, 4], [2, 1, 3], [5, 6, 8]])\n",
    "detA = linalg.det(A)\n",
    "print(\"det(A) =\", detA)\n",
    "\n",
    "# Determinante einer nicht invertierbaren Matrix\n",
    "B = array(([1,2,3], [4,5,6], [7,8,9]))\n",
    "detB = linalg.det(B)\n",
    "print(\"det(B) =\", detB)"
   ]
  },
  {
   "cell_type": "markdown",
   "metadata": {},
   "source": [
    "## Inverse Matrix\n",
    "Das Invertieren von Matrizen ist grundsätzlich möglich, aber numerisch instabil und wird daher in der Regel nicht gemacht."
   ]
  },
  {
   "cell_type": "code",
   "execution_count": null,
   "metadata": {},
   "outputs": [],
   "source": [
    "A = array([[1, 2], [3, 4]])\n",
    "\n",
    "A_inv = linalg.inv(A)\n",
    "print(\"A_inv =\\n\", A_inv)\n",
    "\n",
    "# Probe\n",
    "I = A @ A_inv\n",
    "print(\"I =\\n\", I)\n",
    "\n",
    "# Lösen von linearen Gleichungssystemen\n",
    "b = array([1, 2])\n",
    "x = A_inv @ b\n",
    "print(\"x =\\n\", x)"
   ]
  },
  {
   "cell_type": "markdown",
   "metadata": {},
   "source": [
    "### Numerische Stabilität\n",
    "Hier sehen Sie ein Beispiel, für das das numerische Invertieren nicht zum richtigen Ergebnis führt. Sie können sehen, dass die Probe nichts mehr mit der ursprünglichen rechten Seite zu tun  hat."
   ]
  },
  {
   "cell_type": "code",
   "execution_count": null,
   "metadata": {},
   "outputs": [],
   "source": [
    "# Erstellt eine Hilbert-Matrix – bekannt für schlechte Konditionierung\n",
    "n = 100\n",
    "hilbert_matrix = array([[1 / (i + j + 1) for j in range(n)] for i in range(n)])\n",
    "\n",
    "# Berechne die Inverse mit numpy.linalg.inv\n",
    "inverse_matrix = linalg.inv(hilbert_matrix)\n",
    "\n",
    "# Probe\n",
    "I = hilbert_matrix @ inverse_matrix\n",
    "print(\"Erste Zeile von I sollte (1, 0, 0, 0, ...) sein, ist aber \\n\", I[0, :10])\n",
    "\n",
    "# Loesung eines LGS mit der Inversen\n",
    "b = arange(1, n + 1)\n",
    "x = inverse_matrix @ b\n",
    "\n",
    "# Probe\n",
    "b2 = hilbert_matrix @ x\n",
    "print(\"b2 ist vollkommen unbrauchbar, sollte (1,2,3,...) sein, ist aber =\\n\", b2[:10])"
   ]
  },
  {
   "cell_type": "markdown",
   "metadata": {},
   "source": [
    "Das Lösen des LGS ist aber natürlich auf für diese schlecht konditionierte Matrix möglich und führt zum korrekten Ergebnis:"
   ]
  },
  {
   "cell_type": "code",
   "execution_count": null,
   "metadata": {},
   "outputs": [],
   "source": [
    "x = linalg.solve(hilbert_matrix, b)\n",
    "b2 = hilbert_matrix @ x\n",
    "print(\"b2 ist nun im wesentlichen korrekt =\\n\", b2[:10])"
   ]
  },
  {
   "cell_type": "markdown",
   "metadata": {},
   "source": [
    "Probieren Sie doch einmal Ihren eigenen Gauß-Algorithmus für dieses LGS aus. Funktioniert er?"
   ]
  },
  {
   "cell_type": "code",
   "execution_count": null,
   "metadata": {},
   "outputs": [],
   "source": [
    "# TODO"
   ]
  }
 ],
 "metadata": {
  "kernelspec": {
   "display_name": ".venv",
   "language": "python",
   "name": "python3"
  },
  "language_info": {
   "codemirror_mode": {
    "name": "ipython",
    "version": 3
   },
   "file_extension": ".py",
   "mimetype": "text/x-python",
   "name": "python",
   "nbconvert_exporter": "python",
   "pygments_lexer": "ipython3",
   "version": "3.12.8"
  }
 },
 "nbformat": 4,
 "nbformat_minor": 2
}
