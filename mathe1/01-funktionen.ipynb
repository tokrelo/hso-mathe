{
 "cells": [
  {
   "cell_type": "markdown",
   "metadata": {},
   "source": [
    "# Gleichungen und Ungleichungen\n",
    "\n",
    "Führen Sie bitte zunächst - wie immer - die folgenden import Befehle aus, um alle benötigten Pakete zu laden."
   ]
  },
  {
   "cell_type": "code",
   "execution_count": 1,
   "metadata": {},
   "outputs": [],
   "source": [
    "from numpy import *\n",
    "from scipy import *\n",
    "from pylab import *"
   ]
  },
  {
   "cell_type": "markdown",
   "metadata": {},
   "source": [
    "## Lösen von Gleichungen\n",
    "Das Lösen einer Gleichung $f(x)=g(x)$ lässt sich immmer umstellen zu $h(x)=0$ mit $h(x)=f(x)-g(x)$, das heißt es müssen die Nullstellen der Funktion $h(x)$ bestimmt werden.\n",
    "\n",
    "Nullstellen können in der Regel numerisch bestimmt werden, wenn die ungefähre Lage einer Nullstelle bekannt ist. Das allgemeine Vorgehen ist daher:\n",
    "1. Erstelle einen Plot der Funktionen $f(x)$ und $g(x)$ und bestimme aus dem Plot die **Anzahl der Nullstellen** und deren **ungefähre Lage**.\n",
    "2. Wähle für jede Nullstelle einen Wert in der Nähe aus und führe eine numerische Nullstellensuche durch.\n",
    "\n",
    "In Python kann die Nullstellensuche für einen oder mehrere Anfangswerte mit der Funktion `optimize.fsolve` durchgeführt werden.\n",
    "\n",
    "### Beispiel ###\n",
    "Wir lösen die Gleichung $x^2-2 = xe^{-x^2}$ numerisch. Zunächst plotten wir dazu die rechte und linke Seite. Einen sinnvollen Bereich für den Plot zu finden kann manchmal schon eine eigene Schwierigkeit sein."
   ]
  },
  {
   "cell_type": "code",
   "execution_count": null,
   "metadata": {},
   "outputs": [],
   "source": [
    "f = lambda x: x**2-2\n",
    "g = lambda x: x*exp(-(x**2))\n",
    "\n",
    "x = linspace(-2.5, 2.5, 100)\n",
    "plot(x, f(x), label='$f(x) = x^2-2$')\n",
    "plot(x, g(x), label='$g(x) = e^{-x^2} + ln(x)$')\n",
    "legend()"
   ]
  },
  {
   "cell_type": "markdown",
   "metadata": {},
   "source": [
    "Dem Plot können wir entnehmen, dass es zwei Schnittpunkte gibt, die ungefähr bei $-1$ und $+1$ liegen. Damit können wir eine Nullstellensuche starten."
   ]
  },
  {
   "cell_type": "code",
   "execution_count": null,
   "metadata": {},
   "outputs": [],
   "source": [
    "h = lambda x: f(x) - g(x)\n",
    "optimize.fsolve(h, [-1,1])\n"
   ]
  },
  {
   "cell_type": "markdown",
   "metadata": {},
   "source": [
    "Die Lösungen der Gleichung sind also $x_1=-1.3319$ und $x_2=1.4725$.\n",
    "\n",
    "### Aufgabe\n",
    "Lösen Sie die Gleichungen:\n",
    "1. $x^4-4x^2+x = 3x^3-2x^2-x+1$ (Hinweis: 4 Lösungen)\n",
    "2. $ln(x)=\\sqrt(x^3)$ (Hinweis: 1 Lösung)"
   ]
  },
  {
   "cell_type": "code",
   "execution_count": 38,
   "metadata": {},
   "outputs": [],
   "source": [
    "# TODO: Finden Sie die Lösungen der Gleichung f(x) = g(x) mit fsolve"
   ]
  },
  {
   "cell_type": "markdown",
   "metadata": {},
   "source": [
    "## Lösen von Ungleichungen\n",
    "\n",
    "Die Technik zum numerischen Lösen von Ungleichungen ist im Prinzip identisch zur Lösung von Gleichungen. Anhand des Graphen wird zusätzlich interpretiert, ob die Ungleichung in einem Intervall erfüllt ist oder nicht.\n",
    "Zu beachten sind hierbei neben den Schnittpunkten auch die Polstellen der jeweiligen Funktionen.\n",
    "\n",
    "### Beispiel\n",
    "Wir betrachen die Ungleichung $x^3 < x^2$."
   ]
  },
  {
   "cell_type": "code",
   "execution_count": null,
   "metadata": {},
   "outputs": [],
   "source": [
    "f = lambda x: x**3\n",
    "g = lambda x: x**2\n",
    "\n",
    "x = linspace(-1, 1.5, 100)\n",
    "plot(x, f(x), label=\"$f(x) = x^3$\")\n",
    "plot(x, g(x), label=\"$g(x) = x^2$\")\n",
    "legend()"
   ]
  },
  {
   "cell_type": "markdown",
   "metadata": {},
   "source": [
    "Im Graphen ist das Verhalten bei 0 nicht gut zu erkennen. Wir starten daher die Nullstellensuche mit mehreren Werten nahe bei 0."
   ]
  },
  {
   "cell_type": "code",
   "execution_count": null,
   "metadata": {},
   "outputs": [],
   "source": [
    "h = lambda x: f(x) - g(x)\n",
    "optimize.fsolve(h, [-0.1, -0.01, 0, 0.01, 0.1, 1])"
   ]
  },
  {
   "cell_type": "markdown",
   "metadata": {},
   "source": [
    "Ergebnisse liegen für alle Startwerte nahe 0 bei sehr kleinen Werten - allesamt kleiner als die Toleranz des numerischen Verfahrens. Mehr über die Toleranz lernen Sie in Mathe 4 im Teil Numerik. Für jetzt genügt es uns zu wissen, dass die Werte von fsolve keine größere Genauigkeit als $10^{-8}$ haben. \n",
    "\n",
    "Es gibt also zwei Nullstellen bei 0 und bei 1. Aus dem Graphen können wir die Intervalle ablesen, in denen die rechte oder linke Seite kleiner bzw. größer ist und daraus die Lösungsmenge der Ungleichung bestimmen:\n",
    "\n",
    "$L=(-\\infty;0)\\cup(0;1)$\n",
    "\n",
    "### Aufgaben\n",
    "Lösen Sie numerisch die folgenden Ungleichungen:\n",
    "1. $x^2-2 \\leq xe^{-x^2}$\n",
    "2. $\\frac 1{x-2}+1 < \\frac 1{x-3}$"
   ]
  },
  {
   "cell_type": "code",
   "execution_count": 45,
   "metadata": {},
   "outputs": [],
   "source": [
    "# TODO: Lösen Sie die Ungleichungen"
   ]
  }
 ],
 "metadata": {
  "kernelspec": {
   "display_name": ".venv",
   "language": "python",
   "name": "python3"
  },
  "language_info": {
   "codemirror_mode": {
    "name": "ipython",
    "version": 3
   },
   "file_extension": ".py",
   "mimetype": "text/x-python",
   "name": "python",
   "nbconvert_exporter": "python",
   "pygments_lexer": "ipython3",
   "version": "3.12.7"
  }
 },
 "nbformat": 4,
 "nbformat_minor": 2
}
